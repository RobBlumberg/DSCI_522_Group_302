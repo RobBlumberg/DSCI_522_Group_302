{
 "cells": [
  {
   "cell_type": "markdown",
   "metadata": {},
   "source": [
    "# Exploratory Data Analysis for Horse Racing Dataset for Experts (Hong Kong)\n",
    "    \n",
    "1. <b> Research question: </b> Given a set of features related to racing horses, can we predict the outcome of a race?\n",
    "    "
   ]
  },
  {
   "cell_type": "markdown",
   "metadata": {},
   "source": [
    "## Summary\n",
    "\n",
    "* A good portion of our EDA time was spent wrangling and combining the raw data into one megasheet. With barrier.csv data (training race times) and results.csv (actual race times) combined row-wise and horse-info.csv and comments.csv combined column wise. \n",
    "* There seems to be no one specific feature that highly correlates to the placement of the races so far. \n",
    " "
   ]
  },
  {
   "cell_type": "code",
   "execution_count": 2,
   "metadata": {},
   "outputs": [],
   "source": [
    "# Load packages\n",
    "\n",
    "import pandas as pd\n",
    "import altair as alt\n",
    "import numpy as np\n",
    "import pandas_profiling as pandas_profiling\n",
    "import seaborn as sns\n",
    "from sklearn.model_selection import train_test_split"
   ]
  },
  {
   "cell_type": "markdown",
   "metadata": {},
   "source": [
    "### Data Wrangling"
   ]
  },
  {
   "cell_type": "code",
   "execution_count": 3,
   "metadata": {},
   "outputs": [],
   "source": [
    "#Read in files for merging\n",
    "\n",
    "results= pd.read_csv('../data/raw_files/results.csv')\n",
    "barrier = pd.read_csv('../data/raw_files/barrier.csv')\n",
    "comments = pd.read_csv('../data/raw_files/comments.csv')\n",
    "horse_info = pd.read_csv('../data/raw_files/horse_info.csv')"
   ]
  },
  {
   "cell_type": "code",
   "execution_count": 4,
   "metadata": {},
   "outputs": [
    {
     "data": {
      "text/plain": [
       "array(['1', '1 DH', '2', '2 DH', '3', '3 DH', '4', '4 DH', '5', '5 DH',\n",
       "       '6', '6 DH', '7', 'WV', '7 DH', '8', '8 DH', '9', 'PU', '9 DH',\n",
       "       '10', 'UR', 'WV-A', '11', 'FE', 'DNF', '12', 'WX', 'TNP', '13',\n",
       "       nan, 'WX-A', '14', 5, 3, 10, 9, 4, 1, 6, 7, 8, 2, 11, 13, 12, 14],\n",
       "      dtype=object)"
      ]
     },
     "execution_count": 4,
     "metadata": {},
     "output_type": "execute_result"
    }
   ],
   "source": [
    "#Merging fixing\n",
    "results['dataset'] = 'results'\n",
    "results_comments = pd.merge(results, comments, how=\"left\", on=[\"horseno\", \"date\", \"raceno\", \"plc\"])\n",
    "\n",
    "#Rename barrier time which is the same as finish time in results\n",
    "barrier.rename(columns={'time': 'finishtime'})\n",
    "barrier['dataset'] = 'barrier'\n",
    "barrier_binded = pd.concat([results_comments, barrier], axis=0, ignore_index=False, sort=False)\n",
    "    \n",
    "merged_data= pd.merge(barrier_binded, horse_info, how='left', on= ['horse'])\n",
    "\n",
    "#Removed the columns with _ch as this indicated Chinese.\n",
    "final_data = merged_data[merged_data.columns[~merged_data.columns.str.contains('.*_ch')]]\n",
    "\n",
    "#Drop repeated columns and unnessary indexes\n",
    "final_data =final_data.drop(['trainer_y','Unnamed: 0_x' ,'Unnamed: 0_y'], axis=1)\n",
    "final_data['date']= pd.to_datetime(final_data['date'])\n",
    "final_data[\"plc\"].unique()"
   ]
  },
  {
   "cell_type": "markdown",
   "metadata": {},
   "source": [
    "### Splitting up our merged data into test and train datasets"
   ]
  },
  {
   "cell_type": "code",
   "execution_count": 5,
   "metadata": {},
   "outputs": [],
   "source": [
    "train_data, test_data = train_test_split(final_data,\n",
    "                                             random_state=1,\n",
    "                                             test_size=0.2,\n",
    "                                             shuffle=True)"
   ]
  },
  {
   "cell_type": "markdown",
   "metadata": {},
   "source": [
    "### Data exploration"
   ]
  },
  {
   "cell_type": "code",
   "execution_count": 6,
   "metadata": {},
   "outputs": [
    {
     "data": {
      "text/html": [
       "<div>\n",
       "<style scoped>\n",
       "    .dataframe tbody tr th:only-of-type {\n",
       "        vertical-align: middle;\n",
       "    }\n",
       "\n",
       "    .dataframe tbody tr th {\n",
       "        vertical-align: top;\n",
       "    }\n",
       "\n",
       "    .dataframe thead th {\n",
       "        text-align: right;\n",
       "    }\n",
       "</style>\n",
       "<table border=\"1\" class=\"dataframe\">\n",
       "  <thead>\n",
       "    <tr style=\"text-align: right;\">\n",
       "      <th></th>\n",
       "      <th>row</th>\n",
       "      <th>plc</th>\n",
       "      <th>horseno</th>\n",
       "      <th>horse</th>\n",
       "      <th>jockey</th>\n",
       "      <th>trainer_x</th>\n",
       "      <th>actualwt</th>\n",
       "      <th>declarwt</th>\n",
       "      <th>draw</th>\n",
       "      <th>lbw</th>\n",
       "      <th>...</th>\n",
       "      <th>country</th>\n",
       "      <th>colour</th>\n",
       "      <th>sex</th>\n",
       "      <th>owner</th>\n",
       "      <th>import_type</th>\n",
       "      <th>current_rating</th>\n",
       "      <th>start_rating</th>\n",
       "      <th>sire</th>\n",
       "      <th>dam</th>\n",
       "      <th>age</th>\n",
       "    </tr>\n",
       "  </thead>\n",
       "  <tbody>\n",
       "    <tr>\n",
       "      <th>21818</th>\n",
       "      <td>NaN</td>\n",
       "      <td>3</td>\n",
       "      <td>NaN</td>\n",
       "      <td>SPICY KAKA(V323)</td>\n",
       "      <td>K Teetan</td>\n",
       "      <td>J Moore</td>\n",
       "      <td>NaN</td>\n",
       "      <td>NaN</td>\n",
       "      <td>2.0</td>\n",
       "      <td>2-1/2L</td>\n",
       "      <td>...</td>\n",
       "      <td>GB</td>\n",
       "      <td>Bay</td>\n",
       "      <td>Gelding</td>\n",
       "      <td>Kathleen Shi Pui Ka</td>\n",
       "      <td>ISG</td>\n",
       "      <td>57.0</td>\n",
       "      <td>51.0</td>\n",
       "      <td>Excellent Art</td>\n",
       "      <td>Cheap Thrills</td>\n",
       "      <td>5.0</td>\n",
       "    </tr>\n",
       "    <tr>\n",
       "      <th>7569</th>\n",
       "      <td>6.0</td>\n",
       "      <td>7</td>\n",
       "      <td>9.0</td>\n",
       "      <td>DIAMOND MASTER(S397)</td>\n",
       "      <td>K C Leung</td>\n",
       "      <td>P F Yiu</td>\n",
       "      <td>116.0</td>\n",
       "      <td>1156.0</td>\n",
       "      <td>8.0</td>\n",
       "      <td>4-1/2</td>\n",
       "      <td>...</td>\n",
       "      <td>AUS</td>\n",
       "      <td>Bay</td>\n",
       "      <td>Gelding</td>\n",
       "      <td>HK Diamond Bourse Racing Syndicate</td>\n",
       "      <td>PPG</td>\n",
       "      <td>68.0</td>\n",
       "      <td>69.0</td>\n",
       "      <td>Not A Single Doubt</td>\n",
       "      <td>Sandy Desert</td>\n",
       "      <td>6.0</td>\n",
       "    </tr>\n",
       "    <tr>\n",
       "      <th>12339</th>\n",
       "      <td>11.0</td>\n",
       "      <td>12</td>\n",
       "      <td>5.0</td>\n",
       "      <td>TARZAN I AM(P299)</td>\n",
       "      <td>C Y Ho</td>\n",
       "      <td>D Cruz</td>\n",
       "      <td>125.0</td>\n",
       "      <td>1224.0</td>\n",
       "      <td>14.0</td>\n",
       "      <td>12</td>\n",
       "      <td>...</td>\n",
       "      <td>NZ</td>\n",
       "      <td>Bay</td>\n",
       "      <td>Gelding</td>\n",
       "      <td>Fok Yuk Tong</td>\n",
       "      <td>PP</td>\n",
       "      <td>NaN</td>\n",
       "      <td>NaN</td>\n",
       "      <td>Darci Brahma</td>\n",
       "      <td>Climb The Vine</td>\n",
       "      <td>NaN</td>\n",
       "    </tr>\n",
       "    <tr>\n",
       "      <th>12719</th>\n",
       "      <td>11.0</td>\n",
       "      <td>12</td>\n",
       "      <td>4.0</td>\n",
       "      <td>AIMING HIGH(V206)</td>\n",
       "      <td>M L Yeung</td>\n",
       "      <td>T P Yung</td>\n",
       "      <td>124.0</td>\n",
       "      <td>1149.0</td>\n",
       "      <td>8.0</td>\n",
       "      <td>19</td>\n",
       "      <td>...</td>\n",
       "      <td>NZ</td>\n",
       "      <td>Bay</td>\n",
       "      <td>Gelding</td>\n",
       "      <td>Terence Leung Chi Kin, Patrick Wong Man Kam, J...</td>\n",
       "      <td>PP</td>\n",
       "      <td>NaN</td>\n",
       "      <td>NaN</td>\n",
       "      <td>Captain Rio</td>\n",
       "      <td>Kiwi Supreme</td>\n",
       "      <td>NaN</td>\n",
       "    </tr>\n",
       "    <tr>\n",
       "      <th>8117</th>\n",
       "      <td>7.0</td>\n",
       "      <td>8</td>\n",
       "      <td>6.0</td>\n",
       "      <td>PLANET STAR(A049)</td>\n",
       "      <td>S de Sousa</td>\n",
       "      <td>P O'Sullivan</td>\n",
       "      <td>125.0</td>\n",
       "      <td>1182.0</td>\n",
       "      <td>6.0</td>\n",
       "      <td>5-1/2</td>\n",
       "      <td>...</td>\n",
       "      <td>AUS</td>\n",
       "      <td>Brown</td>\n",
       "      <td>Gelding</td>\n",
       "      <td>Planet Racing Syndicate</td>\n",
       "      <td>PPG</td>\n",
       "      <td>50.0</td>\n",
       "      <td>52.0</td>\n",
       "      <td>Denman</td>\n",
       "      <td>Tell Someone</td>\n",
       "      <td>4.0</td>\n",
       "    </tr>\n",
       "  </tbody>\n",
       "</table>\n",
       "<p>5 rows × 37 columns</p>\n",
       "</div>"
      ],
      "text/plain": [
       "        row plc  horseno                 horse      jockey     trainer_x  \\\n",
       "21818   NaN   3      NaN      SPICY KAKA(V323)    K Teetan       J Moore   \n",
       "7569    6.0   7      9.0  DIAMOND MASTER(S397)   K C Leung       P F Yiu   \n",
       "12339  11.0  12      5.0     TARZAN I AM(P299)      C Y Ho        D Cruz   \n",
       "12719  11.0  12      4.0     AIMING HIGH(V206)   M L Yeung      T P Yung   \n",
       "8117    7.0   8      6.0     PLANET STAR(A049)  S de Sousa  P O'Sullivan   \n",
       "\n",
       "       actualwt  declarwt  draw     lbw  ... country colour      sex  \\\n",
       "21818       NaN       NaN   2.0  2-1/2L  ...      GB    Bay  Gelding   \n",
       "7569      116.0    1156.0   8.0   4-1/2  ...     AUS    Bay  Gelding   \n",
       "12339     125.0    1224.0  14.0      12  ...      NZ    Bay  Gelding   \n",
       "12719     124.0    1149.0   8.0      19  ...      NZ    Bay  Gelding   \n",
       "8117      125.0    1182.0   6.0   5-1/2  ...     AUS  Brown  Gelding   \n",
       "\n",
       "                                                   owner  import_type  \\\n",
       "21818                                Kathleen Shi Pui Ka          ISG   \n",
       "7569                  HK Diamond Bourse Racing Syndicate          PPG   \n",
       "12339                                       Fok Yuk Tong           PP   \n",
       "12719  Terence Leung Chi Kin, Patrick Wong Man Kam, J...           PP   \n",
       "8117                             Planet Racing Syndicate          PPG   \n",
       "\n",
       "       current_rating  start_rating                sire             dam  age  \n",
       "21818            57.0          51.0       Excellent Art   Cheap Thrills  5.0  \n",
       "7569             68.0          69.0  Not A Single Doubt    Sandy Desert  6.0  \n",
       "12339             NaN           NaN        Darci Brahma  Climb The Vine  NaN  \n",
       "12719             NaN           NaN         Captain Rio    Kiwi Supreme  NaN  \n",
       "8117             50.0          52.0              Denman    Tell Someone  4.0  \n",
       "\n",
       "[5 rows x 37 columns]"
      ]
     },
     "execution_count": 6,
     "metadata": {},
     "output_type": "execute_result"
    }
   ],
   "source": [
    "# Import training set\n",
    "#train_data = pd.read_csv('../data/data_train.csv')\n",
    "train_data.head()"
   ]
  },
  {
   "cell_type": "markdown",
   "metadata": {},
   "source": [
    "<b> We can observe what information is provided from our merged dataset for one race. <b>"
   ]
  },
  {
   "cell_type": "code",
   "execution_count": 7,
   "metadata": {},
   "outputs": [
    {
     "data": {
      "text/html": [
       "<div>\n",
       "<style scoped>\n",
       "    .dataframe tbody tr th:only-of-type {\n",
       "        vertical-align: middle;\n",
       "    }\n",
       "\n",
       "    .dataframe tbody tr th {\n",
       "        vertical-align: top;\n",
       "    }\n",
       "\n",
       "    .dataframe thead th {\n",
       "        text-align: right;\n",
       "    }\n",
       "</style>\n",
       "<table border=\"1\" class=\"dataframe\">\n",
       "  <thead>\n",
       "    <tr style=\"text-align: right;\">\n",
       "      <th></th>\n",
       "      <th>row</th>\n",
       "      <th>plc</th>\n",
       "      <th>horseno</th>\n",
       "      <th>horse</th>\n",
       "      <th>jockey</th>\n",
       "      <th>trainer_x</th>\n",
       "      <th>actualwt</th>\n",
       "      <th>declarwt</th>\n",
       "      <th>draw</th>\n",
       "      <th>lbw</th>\n",
       "      <th>...</th>\n",
       "      <th>country</th>\n",
       "      <th>colour</th>\n",
       "      <th>sex</th>\n",
       "      <th>owner</th>\n",
       "      <th>import_type</th>\n",
       "      <th>current_rating</th>\n",
       "      <th>start_rating</th>\n",
       "      <th>sire</th>\n",
       "      <th>dam</th>\n",
       "      <th>age</th>\n",
       "    </tr>\n",
       "  </thead>\n",
       "  <tbody>\n",
       "    <tr>\n",
       "      <th>1152</th>\n",
       "      <td>1.0</td>\n",
       "      <td>2</td>\n",
       "      <td>4.0</td>\n",
       "      <td>THUNDER DASH(T133)</td>\n",
       "      <td>S de Sousa</td>\n",
       "      <td>P F Yiu</td>\n",
       "      <td>126.0</td>\n",
       "      <td>1063.0</td>\n",
       "      <td>8.0</td>\n",
       "      <td>3-1/4</td>\n",
       "      <td>...</td>\n",
       "      <td>AUS</td>\n",
       "      <td>Bay</td>\n",
       "      <td>Gelding</td>\n",
       "      <td>Mr &amp; Mrs Chan Ting Leung</td>\n",
       "      <td>PPG</td>\n",
       "      <td>NaN</td>\n",
       "      <td>NaN</td>\n",
       "      <td>Sebring</td>\n",
       "      <td>Princess Ola</td>\n",
       "      <td>NaN</td>\n",
       "    </tr>\n",
       "    <tr>\n",
       "      <th>4494</th>\n",
       "      <td>4.0</td>\n",
       "      <td>5</td>\n",
       "      <td>1.0</td>\n",
       "      <td>GORGEOUS LEGEND(T122)</td>\n",
       "      <td>H W Lai</td>\n",
       "      <td>C S Shum</td>\n",
       "      <td>132.0</td>\n",
       "      <td>1113.0</td>\n",
       "      <td>5.0</td>\n",
       "      <td>4-1/4</td>\n",
       "      <td>...</td>\n",
       "      <td>AUS</td>\n",
       "      <td>Bay</td>\n",
       "      <td>Gelding</td>\n",
       "      <td>Yip Kong Wah</td>\n",
       "      <td>PP</td>\n",
       "      <td>NaN</td>\n",
       "      <td>NaN</td>\n",
       "      <td>Hard Spun</td>\n",
       "      <td>La Carmencita</td>\n",
       "      <td>NaN</td>\n",
       "    </tr>\n",
       "    <tr>\n",
       "      <th>6719</th>\n",
       "      <td>6.0</td>\n",
       "      <td>7</td>\n",
       "      <td>10.0</td>\n",
       "      <td>HEAVENLY MASTERS(V006)</td>\n",
       "      <td>D Whyte</td>\n",
       "      <td>A S Cruz</td>\n",
       "      <td>120.0</td>\n",
       "      <td>1092.0</td>\n",
       "      <td>1.0</td>\n",
       "      <td>5-3/4</td>\n",
       "      <td>...</td>\n",
       "      <td>AUS</td>\n",
       "      <td>Bay</td>\n",
       "      <td>Gelding</td>\n",
       "      <td>So Shun</td>\n",
       "      <td>PPG</td>\n",
       "      <td>NaN</td>\n",
       "      <td>NaN</td>\n",
       "      <td>Freeze</td>\n",
       "      <td>Sprung</td>\n",
       "      <td>NaN</td>\n",
       "    </tr>\n",
       "    <tr>\n",
       "      <th>7825</th>\n",
       "      <td>7.0</td>\n",
       "      <td>8</td>\n",
       "      <td>12.0</td>\n",
       "      <td>ALL IS WELL(T240)</td>\n",
       "      <td>R Fourie</td>\n",
       "      <td>S Woods</td>\n",
       "      <td>118.0</td>\n",
       "      <td>1025.0</td>\n",
       "      <td>7.0</td>\n",
       "      <td>6-1/2</td>\n",
       "      <td>...</td>\n",
       "      <td>NZ</td>\n",
       "      <td>Bay</td>\n",
       "      <td>Gelding</td>\n",
       "      <td>Michael Lee To Ming &amp; Lawrence Lee To Fu</td>\n",
       "      <td>PP</td>\n",
       "      <td>NaN</td>\n",
       "      <td>NaN</td>\n",
       "      <td>Seasoned Star</td>\n",
       "      <td>Bloody Mary</td>\n",
       "      <td>NaN</td>\n",
       "    </tr>\n",
       "    <tr>\n",
       "      <th>8926</th>\n",
       "      <td>8.0</td>\n",
       "      <td>9</td>\n",
       "      <td>6.0</td>\n",
       "      <td>GOLDEN CANNON(T022)</td>\n",
       "      <td>Y T Cheng</td>\n",
       "      <td>D Cruz</td>\n",
       "      <td>124.0</td>\n",
       "      <td>978.0</td>\n",
       "      <td>11.0</td>\n",
       "      <td>6-3/4</td>\n",
       "      <td>...</td>\n",
       "      <td>AUS</td>\n",
       "      <td>Bay</td>\n",
       "      <td>Gelding</td>\n",
       "      <td>Stanley Chan Ka Leung</td>\n",
       "      <td>PPG</td>\n",
       "      <td>28.0</td>\n",
       "      <td>24.0</td>\n",
       "      <td>Danzero</td>\n",
       "      <td>Dance Hit</td>\n",
       "      <td>6.0</td>\n",
       "    </tr>\n",
       "    <tr>\n",
       "      <th>10018</th>\n",
       "      <td>9.0</td>\n",
       "      <td>10</td>\n",
       "      <td>2.0</td>\n",
       "      <td>SUPER SWEET ORANGE(V058)</td>\n",
       "      <td>C Schofield</td>\n",
       "      <td>D E Ferraris</td>\n",
       "      <td>132.0</td>\n",
       "      <td>1235.0</td>\n",
       "      <td>12.0</td>\n",
       "      <td>7</td>\n",
       "      <td>...</td>\n",
       "      <td>NZ</td>\n",
       "      <td>Bay</td>\n",
       "      <td>Gelding</td>\n",
       "      <td>Tong Wang Chow</td>\n",
       "      <td>PP</td>\n",
       "      <td>NaN</td>\n",
       "      <td>NaN</td>\n",
       "      <td>Zabeel</td>\n",
       "      <td>Salsa</td>\n",
       "      <td>NaN</td>\n",
       "    </tr>\n",
       "    <tr>\n",
       "      <th>11095</th>\n",
       "      <td>10.0</td>\n",
       "      <td>11</td>\n",
       "      <td>7.0</td>\n",
       "      <td>SHOW MISSION(T436)</td>\n",
       "      <td>V Cheminaud</td>\n",
       "      <td>Y S Tsui</td>\n",
       "      <td>124.0</td>\n",
       "      <td>1088.0</td>\n",
       "      <td>9.0</td>\n",
       "      <td>7-1/2</td>\n",
       "      <td>...</td>\n",
       "      <td>NZ</td>\n",
       "      <td>Bay</td>\n",
       "      <td>Gelding</td>\n",
       "      <td>Wong Kiam Seng</td>\n",
       "      <td>PPG</td>\n",
       "      <td>41.0</td>\n",
       "      <td>37.0</td>\n",
       "      <td>Showcasing</td>\n",
       "      <td>Olga Palosky</td>\n",
       "      <td>5.0</td>\n",
       "    </tr>\n",
       "    <tr>\n",
       "      <th>12151</th>\n",
       "      <td>11.0</td>\n",
       "      <td>12</td>\n",
       "      <td>8.0</td>\n",
       "      <td>WORLD RECORD(V040)</td>\n",
       "      <td>K Teetan</td>\n",
       "      <td>A T Millard</td>\n",
       "      <td>124.0</td>\n",
       "      <td>1060.0</td>\n",
       "      <td>10.0</td>\n",
       "      <td>9-1/4</td>\n",
       "      <td>...</td>\n",
       "      <td>NZ</td>\n",
       "      <td>Brown</td>\n",
       "      <td>Gelding</td>\n",
       "      <td>William Ching Hon Kuen &amp; Raymond Ching Wei Man</td>\n",
       "      <td>PPG</td>\n",
       "      <td>82.0</td>\n",
       "      <td>73.0</td>\n",
       "      <td>Savabeel</td>\n",
       "      <td>Run Brony Run</td>\n",
       "      <td>5.0</td>\n",
       "    </tr>\n",
       "  </tbody>\n",
       "</table>\n",
       "<p>8 rows × 37 columns</p>\n",
       "</div>"
      ],
      "text/plain": [
       "        row plc  horseno                     horse       jockey     trainer_x  \\\n",
       "1152    1.0   2      4.0        THUNDER DASH(T133)   S de Sousa       P F Yiu   \n",
       "4494    4.0   5      1.0     GORGEOUS LEGEND(T122)      H W Lai      C S Shum   \n",
       "6719    6.0   7     10.0    HEAVENLY MASTERS(V006)      D Whyte      A S Cruz   \n",
       "7825    7.0   8     12.0         ALL IS WELL(T240)     R Fourie       S Woods   \n",
       "8926    8.0   9      6.0       GOLDEN CANNON(T022)    Y T Cheng        D Cruz   \n",
       "10018   9.0  10      2.0  SUPER SWEET ORANGE(V058)  C Schofield  D E Ferraris   \n",
       "11095  10.0  11      7.0        SHOW MISSION(T436)  V Cheminaud      Y S Tsui   \n",
       "12151  11.0  12      8.0        WORLD RECORD(V040)     K Teetan   A T Millard   \n",
       "\n",
       "       actualwt  declarwt  draw    lbw  ... country colour      sex  \\\n",
       "1152      126.0    1063.0   8.0  3-1/4  ...     AUS    Bay  Gelding   \n",
       "4494      132.0    1113.0   5.0  4-1/4  ...     AUS    Bay  Gelding   \n",
       "6719      120.0    1092.0   1.0  5-3/4  ...     AUS    Bay  Gelding   \n",
       "7825      118.0    1025.0   7.0  6-1/2  ...      NZ    Bay  Gelding   \n",
       "8926      124.0     978.0  11.0  6-3/4  ...     AUS    Bay  Gelding   \n",
       "10018     132.0    1235.0  12.0      7  ...      NZ    Bay  Gelding   \n",
       "11095     124.0    1088.0   9.0  7-1/2  ...      NZ    Bay  Gelding   \n",
       "12151     124.0    1060.0  10.0  9-1/4  ...      NZ  Brown  Gelding   \n",
       "\n",
       "                                                owner  import_type  \\\n",
       "1152                         Mr & Mrs Chan Ting Leung          PPG   \n",
       "4494                                     Yip Kong Wah           PP   \n",
       "6719                                          So Shun          PPG   \n",
       "7825         Michael Lee To Ming & Lawrence Lee To Fu           PP   \n",
       "8926                            Stanley Chan Ka Leung          PPG   \n",
       "10018                                  Tong Wang Chow           PP   \n",
       "11095                                  Wong Kiam Seng          PPG   \n",
       "12151  William Ching Hon Kuen & Raymond Ching Wei Man          PPG   \n",
       "\n",
       "       current_rating  start_rating           sire            dam  age  \n",
       "1152              NaN           NaN        Sebring   Princess Ola  NaN  \n",
       "4494              NaN           NaN      Hard Spun  La Carmencita  NaN  \n",
       "6719              NaN           NaN         Freeze         Sprung  NaN  \n",
       "7825              NaN           NaN  Seasoned Star    Bloody Mary  NaN  \n",
       "8926             28.0          24.0        Danzero      Dance Hit  6.0  \n",
       "10018             NaN           NaN         Zabeel          Salsa  NaN  \n",
       "11095            41.0          37.0     Showcasing   Olga Palosky  5.0  \n",
       "12151            82.0          73.0       Savabeel  Run Brony Run  5.0  \n",
       "\n",
       "[8 rows x 37 columns]"
      ]
     },
     "execution_count": 7,
     "metadata": {},
     "output_type": "execute_result"
    }
   ],
   "source": [
    "# View what one race data section looks like\n",
    "train_data.query(\"date=='2016-01-09' and raceno==1\").sort_values(by=['row'])"
   ]
  },
  {
   "cell_type": "code",
   "execution_count": 8,
   "metadata": {},
   "outputs": [
    {
     "data": {
      "text/html": [
       "<div>\n",
       "<style scoped>\n",
       "    .dataframe tbody tr th:only-of-type {\n",
       "        vertical-align: middle;\n",
       "    }\n",
       "\n",
       "    .dataframe tbody tr th {\n",
       "        vertical-align: top;\n",
       "    }\n",
       "\n",
       "    .dataframe thead th {\n",
       "        text-align: right;\n",
       "    }\n",
       "</style>\n",
       "<table border=\"1\" class=\"dataframe\">\n",
       "  <thead>\n",
       "    <tr style=\"text-align: right;\">\n",
       "      <th></th>\n",
       "      <th>row</th>\n",
       "      <th>plc</th>\n",
       "      <th>horseno</th>\n",
       "      <th>horse</th>\n",
       "      <th>jockey</th>\n",
       "      <th>trainer_x</th>\n",
       "      <th>actualwt</th>\n",
       "      <th>declarwt</th>\n",
       "      <th>draw</th>\n",
       "      <th>lbw</th>\n",
       "      <th>...</th>\n",
       "      <th>country</th>\n",
       "      <th>colour</th>\n",
       "      <th>sex</th>\n",
       "      <th>owner</th>\n",
       "      <th>import_type</th>\n",
       "      <th>current_rating</th>\n",
       "      <th>start_rating</th>\n",
       "      <th>sire</th>\n",
       "      <th>dam</th>\n",
       "      <th>age</th>\n",
       "    </tr>\n",
       "  </thead>\n",
       "  <tbody>\n",
       "    <tr>\n",
       "      <th>14414</th>\n",
       "      <td>NaN</td>\n",
       "      <td>2</td>\n",
       "      <td>NaN</td>\n",
       "      <td>ALL YOU KNOW(A320)</td>\n",
       "      <td>C Schofield</td>\n",
       "      <td>R Gibson</td>\n",
       "      <td>NaN</td>\n",
       "      <td>NaN</td>\n",
       "      <td>3.0</td>\n",
       "      <td>2-3/4L</td>\n",
       "      <td>...</td>\n",
       "      <td>IRE</td>\n",
       "      <td>Grey</td>\n",
       "      <td>Gelding</td>\n",
       "      <td>Eric Ng Wing Kwong</td>\n",
       "      <td>ISG</td>\n",
       "      <td>47.0</td>\n",
       "      <td>57.0</td>\n",
       "      <td>Dark Angel</td>\n",
       "      <td>Marseille Express</td>\n",
       "      <td>4.0</td>\n",
       "    </tr>\n",
       "    <tr>\n",
       "      <th>18485</th>\n",
       "      <td>NaN</td>\n",
       "      <td>3</td>\n",
       "      <td>NaN</td>\n",
       "      <td>IMPECCABLE FELLOW(A310)</td>\n",
       "      <td>C Murray</td>\n",
       "      <td>R Gibson</td>\n",
       "      <td>NaN</td>\n",
       "      <td>NaN</td>\n",
       "      <td>2.0</td>\n",
       "      <td>6-1/2L</td>\n",
       "      <td>...</td>\n",
       "      <td>IRE</td>\n",
       "      <td>Bay</td>\n",
       "      <td>Gelding</td>\n",
       "      <td>Frank Lyn Yee Chon &amp; Ivy Lai</td>\n",
       "      <td>ISG</td>\n",
       "      <td>54.0</td>\n",
       "      <td>57.0</td>\n",
       "      <td>Acclamation</td>\n",
       "      <td>Moment Juste</td>\n",
       "      <td>4.0</td>\n",
       "    </tr>\n",
       "    <tr>\n",
       "      <th>22874</th>\n",
       "      <td>NaN</td>\n",
       "      <td>4</td>\n",
       "      <td>NaN</td>\n",
       "      <td>VICTORIOUS ANTHEM(A256)</td>\n",
       "      <td>K Teetan</td>\n",
       "      <td>D J Hall</td>\n",
       "      <td>NaN</td>\n",
       "      <td>NaN</td>\n",
       "      <td>1.0</td>\n",
       "      <td>7-3/4L</td>\n",
       "      <td>...</td>\n",
       "      <td>NaN</td>\n",
       "      <td>NaN</td>\n",
       "      <td>NaN</td>\n",
       "      <td>NaN</td>\n",
       "      <td>NaN</td>\n",
       "      <td>NaN</td>\n",
       "      <td>NaN</td>\n",
       "      <td>NaN</td>\n",
       "      <td>NaN</td>\n",
       "      <td>NaN</td>\n",
       "    </tr>\n",
       "  </tbody>\n",
       "</table>\n",
       "<p>3 rows × 37 columns</p>\n",
       "</div>"
      ],
      "text/plain": [
       "       row plc  horseno                    horse       jockey trainer_x  \\\n",
       "14414  NaN   2      NaN       ALL YOU KNOW(A320)  C Schofield  R Gibson   \n",
       "18485  NaN   3      NaN  IMPECCABLE FELLOW(A310)     C Murray  R Gibson   \n",
       "22874  NaN   4      NaN  VICTORIOUS ANTHEM(A256)     K Teetan  D J Hall   \n",
       "\n",
       "       actualwt  declarwt  draw     lbw  ... country colour      sex  \\\n",
       "14414       NaN       NaN   3.0  2-3/4L  ...     IRE   Grey  Gelding   \n",
       "18485       NaN       NaN   2.0  6-1/2L  ...     IRE    Bay  Gelding   \n",
       "22874       NaN       NaN   1.0  7-3/4L  ...     NaN    NaN      NaN   \n",
       "\n",
       "                              owner  import_type  current_rating  \\\n",
       "14414            Eric Ng Wing Kwong          ISG            47.0   \n",
       "18485  Frank Lyn Yee Chon & Ivy Lai          ISG            54.0   \n",
       "22874                           NaN          NaN             NaN   \n",
       "\n",
       "       start_rating         sire                dam  age  \n",
       "14414          57.0   Dark Angel  Marseille Express  4.0  \n",
       "18485          57.0  Acclamation       Moment Juste  4.0  \n",
       "22874           NaN          NaN                NaN  NaN  \n",
       "\n",
       "[3 rows x 37 columns]"
      ]
     },
     "execution_count": 8,
     "metadata": {},
     "output_type": "execute_result"
    }
   ],
   "source": [
    "train_data.query(\"date=='2017-07-14' and raceno==1\").sort_values(by=['plc']) # select a specific race from barrier trials."
   ]
  },
  {
   "cell_type": "code",
   "execution_count": 9,
   "metadata": {},
   "outputs": [
    {
     "data": {
      "text/html": [
       "<div>\n",
       "<style scoped>\n",
       "    .dataframe tbody tr th:only-of-type {\n",
       "        vertical-align: middle;\n",
       "    }\n",
       "\n",
       "    .dataframe tbody tr th {\n",
       "        vertical-align: top;\n",
       "    }\n",
       "\n",
       "    .dataframe thead th {\n",
       "        text-align: right;\n",
       "    }\n",
       "</style>\n",
       "<table border=\"1\" class=\"dataframe\">\n",
       "  <thead>\n",
       "    <tr style=\"text-align: right;\">\n",
       "      <th></th>\n",
       "      <th>row</th>\n",
       "      <th>horseno</th>\n",
       "      <th>actualwt</th>\n",
       "      <th>declarwt</th>\n",
       "      <th>draw</th>\n",
       "      <th>winodds</th>\n",
       "      <th>raceno</th>\n",
       "      <th>class</th>\n",
       "      <th>distance</th>\n",
       "      <th>stake</th>\n",
       "      <th>current_rating</th>\n",
       "      <th>start_rating</th>\n",
       "      <th>age</th>\n",
       "    </tr>\n",
       "  </thead>\n",
       "  <tbody>\n",
       "    <tr>\n",
       "      <th>count</th>\n",
       "      <td>11285.000000</td>\n",
       "      <td>11146.000000</td>\n",
       "      <td>11284.000000</td>\n",
       "      <td>11251.000000</td>\n",
       "      <td>18508.000000</td>\n",
       "      <td>11050.000000</td>\n",
       "      <td>18744.000000</td>\n",
       "      <td>11285.000000</td>\n",
       "      <td>18744.000000</td>\n",
       "      <td>1.128500e+04</td>\n",
       "      <td>9144.000000</td>\n",
       "      <td>9144.000000</td>\n",
       "      <td>9144.000000</td>\n",
       "    </tr>\n",
       "    <tr>\n",
       "      <th>mean</th>\n",
       "      <td>5.976961</td>\n",
       "      <td>6.865781</td>\n",
       "      <td>122.853952</td>\n",
       "      <td>1109.069327</td>\n",
       "      <td>6.228712</td>\n",
       "      <td>30.118941</td>\n",
       "      <td>4.700811</td>\n",
       "      <td>3.453257</td>\n",
       "      <td>1202.934272</td>\n",
       "      <td>1.301544e+06</td>\n",
       "      <td>61.468285</td>\n",
       "      <td>62.370297</td>\n",
       "      <td>5.960083</td>\n",
       "    </tr>\n",
       "    <tr>\n",
       "      <th>std</th>\n",
       "      <td>3.806700</td>\n",
       "      <td>3.737905</td>\n",
       "      <td>6.385524</td>\n",
       "      <td>61.416600</td>\n",
       "      <td>3.527772</td>\n",
       "      <td>31.637545</td>\n",
       "      <td>2.873232</td>\n",
       "      <td>1.028424</td>\n",
       "      <td>433.442574</td>\n",
       "      <td>2.048077e+06</td>\n",
       "      <td>23.807324</td>\n",
       "      <td>22.640663</td>\n",
       "      <td>1.191517</td>\n",
       "    </tr>\n",
       "    <tr>\n",
       "      <th>min</th>\n",
       "      <td>0.000000</td>\n",
       "      <td>1.000000</td>\n",
       "      <td>103.000000</td>\n",
       "      <td>902.000000</td>\n",
       "      <td>1.000000</td>\n",
       "      <td>1.200000</td>\n",
       "      <td>1.000000</td>\n",
       "      <td>1.000000</td>\n",
       "      <td>150.000000</td>\n",
       "      <td>5.750000e+05</td>\n",
       "      <td>3.000000</td>\n",
       "      <td>18.000000</td>\n",
       "      <td>3.000000</td>\n",
       "    </tr>\n",
       "    <tr>\n",
       "      <th>25%</th>\n",
       "      <td>3.000000</td>\n",
       "      <td>4.000000</td>\n",
       "      <td>118.000000</td>\n",
       "      <td>1066.000000</td>\n",
       "      <td>3.000000</td>\n",
       "      <td>7.700000</td>\n",
       "      <td>2.000000</td>\n",
       "      <td>3.000000</td>\n",
       "      <td>1000.000000</td>\n",
       "      <td>8.000000e+05</td>\n",
       "      <td>44.000000</td>\n",
       "      <td>46.000000</td>\n",
       "      <td>5.000000</td>\n",
       "    </tr>\n",
       "    <tr>\n",
       "      <th>50%</th>\n",
       "      <td>6.000000</td>\n",
       "      <td>7.000000</td>\n",
       "      <td>123.000000</td>\n",
       "      <td>1107.000000</td>\n",
       "      <td>6.000000</td>\n",
       "      <td>16.000000</td>\n",
       "      <td>4.000000</td>\n",
       "      <td>4.000000</td>\n",
       "      <td>1200.000000</td>\n",
       "      <td>8.400000e+05</td>\n",
       "      <td>60.000000</td>\n",
       "      <td>61.000000</td>\n",
       "      <td>6.000000</td>\n",
       "    </tr>\n",
       "    <tr>\n",
       "      <th>75%</th>\n",
       "      <td>9.000000</td>\n",
       "      <td>10.000000</td>\n",
       "      <td>128.000000</td>\n",
       "      <td>1151.000000</td>\n",
       "      <td>9.000000</td>\n",
       "      <td>40.000000</td>\n",
       "      <td>7.000000</td>\n",
       "      <td>4.000000</td>\n",
       "      <td>1600.000000</td>\n",
       "      <td>1.235000e+06</td>\n",
       "      <td>76.000000</td>\n",
       "      <td>76.000000</td>\n",
       "      <td>7.000000</td>\n",
       "    </tr>\n",
       "    <tr>\n",
       "      <th>max</th>\n",
       "      <td>15.000000</td>\n",
       "      <td>14.000000</td>\n",
       "      <td>133.000000</td>\n",
       "      <td>1365.000000</td>\n",
       "      <td>14.000000</td>\n",
       "      <td>99.000000</td>\n",
       "      <td>13.000000</td>\n",
       "      <td>5.000000</td>\n",
       "      <td>2400.000000</td>\n",
       "      <td>2.500000e+07</td>\n",
       "      <td>130.000000</td>\n",
       "      <td>128.000000</td>\n",
       "      <td>10.000000</td>\n",
       "    </tr>\n",
       "  </tbody>\n",
       "</table>\n",
       "</div>"
      ],
      "text/plain": [
       "                row       horseno      actualwt      declarwt          draw  \\\n",
       "count  11285.000000  11146.000000  11284.000000  11251.000000  18508.000000   \n",
       "mean       5.976961      6.865781    122.853952   1109.069327      6.228712   \n",
       "std        3.806700      3.737905      6.385524     61.416600      3.527772   \n",
       "min        0.000000      1.000000    103.000000    902.000000      1.000000   \n",
       "25%        3.000000      4.000000    118.000000   1066.000000      3.000000   \n",
       "50%        6.000000      7.000000    123.000000   1107.000000      6.000000   \n",
       "75%        9.000000     10.000000    128.000000   1151.000000      9.000000   \n",
       "max       15.000000     14.000000    133.000000   1365.000000     14.000000   \n",
       "\n",
       "            winodds        raceno         class      distance         stake  \\\n",
       "count  11050.000000  18744.000000  11285.000000  18744.000000  1.128500e+04   \n",
       "mean      30.118941      4.700811      3.453257   1202.934272  1.301544e+06   \n",
       "std       31.637545      2.873232      1.028424    433.442574  2.048077e+06   \n",
       "min        1.200000      1.000000      1.000000    150.000000  5.750000e+05   \n",
       "25%        7.700000      2.000000      3.000000   1000.000000  8.000000e+05   \n",
       "50%       16.000000      4.000000      4.000000   1200.000000  8.400000e+05   \n",
       "75%       40.000000      7.000000      4.000000   1600.000000  1.235000e+06   \n",
       "max       99.000000     13.000000      5.000000   2400.000000  2.500000e+07   \n",
       "\n",
       "       current_rating  start_rating          age  \n",
       "count     9144.000000   9144.000000  9144.000000  \n",
       "mean        61.468285     62.370297     5.960083  \n",
       "std         23.807324     22.640663     1.191517  \n",
       "min          3.000000     18.000000     3.000000  \n",
       "25%         44.000000     46.000000     5.000000  \n",
       "50%         60.000000     61.000000     6.000000  \n",
       "75%         76.000000     76.000000     7.000000  \n",
       "max        130.000000    128.000000    10.000000  "
      ]
     },
     "execution_count": 9,
     "metadata": {},
     "output_type": "execute_result"
    }
   ],
   "source": [
    "#train_data.profile_report() #dataset too big so will not load -ck\n",
    "#horse_info.describe()\n",
    "#print(\"The dataframe columns are: \", list(horse_info.columns), \"\\n\")\n",
    "train_data.describe()"
   ]
  },
  {
   "cell_type": "markdown",
   "metadata": {},
   "source": [
    "### Comments on the pandas profiling\n",
    "\n",
    "We have 12 numerical variables and 22 categorical variables\n",
    " \n",
    "* Due to our merging process we observe a lot of missing values\n",
    "\n",
    "* Highly correlated features initially seen are current_rating with start_rating, stake with current_rating. Some other lower correlated features include declared weight with start_rating, row and winodds, age and distance.\n",
    "\n",
    "* These should be further looked into and although these correlations aren't very high these features should be considered when answering our research question."
   ]
  },
  {
   "cell_type": "markdown",
   "metadata": {},
   "source": [
    "### More data exploration"
   ]
  },
  {
   "cell_type": "code",
   "execution_count": 10,
   "metadata": {},
   "outputs": [
    {
     "name": "stdout",
     "output_type": "stream",
     "text": [
      "The dataframe columns are:  ['row', 'plc', 'horseno', 'horse', 'jockey', 'trainer_x', 'actualwt', 'declarwt', 'draw', 'lbw', 'runningpos', 'finishtime', 'winodds', 'date', 'raceno', 'class', 'distance', 'going', 'handicap', 'course', 'stake', 'venue', 'dataset', 'gear', 'comment', 'time', 'result', 'country', 'colour', 'sex', 'owner', 'import_type', 'current_rating', 'start_rating', 'sire', 'dam', 'age'] \n",
      "\n",
      "- There are 1962 number of horses in the train dataset. \n",
      "\n",
      "- There are 69 unique trainers in the train dataset. \n",
      "\n",
      "- There countries the horses are from are:. ['GB' 'AUS' 'NZ' 'USA' 'IRE' nan 'ITY' 'SAF' 'FR' 'GER' 'CAN' 'JPN' 'ARG'\n",
      " 'SPA'] \n",
      "\n",
      "- The age of the horses ranges from 3.0 to 10.0 \n",
      "\n"
     ]
    }
   ],
   "source": [
    "print(\"The dataframe columns are: \", list(train_data.columns), \"\\n\")\n",
    "\n",
    "list_horse_names = (sorted(set(train_data['horse'])))\n",
    "print(\"- There are {0} number of horses in the train dataset.\".format(len(list_horse_names)),\"\\n\")\n",
    "\n",
    "trainer_names = (sorted(set(train_data['trainer_x'])))\n",
    "print(\"- There are {0} unique trainers in the train dataset.\".format(len(trainer_names)),\"\\n\")\n",
    "\n",
    "print('- There countries the horses are from are:.', (train_data['country'].unique()),\"\\n\")\n",
    "\n",
    "age_list = sorted(list(train_data['age'].unique()))\n",
    "print(\"- The age of the horses ranges from {0} to {1}\".format(age_list[0],\n",
    "                                                                    age_list[-1]), \"\\n\")\n",
    "#years_list = sorted(list(train_data['date'].unique()))\n",
    "#print(\"- The years range from {0:.0f} to {1:.0f} and there are {2} years.\".format(years_list[0],\n",
    "                                                                          # years_list[-1],                                                                        len(years_list)),\"\\n\")"
   ]
  },
  {
   "cell_type": "markdown",
   "metadata": {},
   "source": [
    "## Visualizations"
   ]
  },
  {
   "cell_type": "markdown",
   "metadata": {},
   "source": [
    "### Checking for Null values in dataset"
   ]
  },
  {
   "cell_type": "code",
   "execution_count": 11,
   "metadata": {},
   "outputs": [
    {
     "data": {
      "text/plain": [
       "<matplotlib.axes._subplots.AxesSubplot at 0x7f6f317b5050>"
      ]
     },
     "execution_count": 11,
     "metadata": {},
     "output_type": "execute_result"
    },
    {
     "data": {
      "image/png": "[encoded data removed]",
      "text/plain": [
       "<Figure size 720x648 with 1 Axes>"
      ]
     },
     "metadata": {},
     "output_type": "display_data"
    }
   ],
   "source": [
    "sns.set(rc= {'figure.figsize':(10, 9)})\n",
    "sns.heatmap(train_data.isnull(), cmap='viridis', cbar=False)"
   ]
  },
  {
   "cell_type": "markdown",
   "metadata": {},
   "source": [
    "> This null plot shows that the yellow marks the areas with null values, as you can see there are many columns with NA's which occurred during our merging process. From the heat map above we found there to be a lot of null values in the merged dataset that should be removed. "
   ]
  },
  {
   "cell_type": "markdown",
   "metadata": {},
   "source": [
    "### Correlation Heat Map"
   ]
  },
  {
   "cell_type": "code",
   "execution_count": 12,
   "metadata": {},
   "outputs": [
    {
     "data": {
      "application/vnd.vegalite.v3+json": {
       "$schema": "https://vega.github.io/schema/vega-lite/v3.4.0.json",
       "config": {
        "mark": {
         "tooltip": null
        },
        "view": {
         "height": 300,
         "width": 400
        }
       },
       "data": {
        "name": "data-46dc9a750c3dee0b21bfadc5252c1e04"
       },
       "datasets": {
        "data-46dc9a750c3dee0b21bfadc5252c1e04": [
         {
          "Correlation": 1,
          "Var1": "row",
          "Var2": "row"
         },
         {
          "Correlation": 0.13505482818109138,
          "Var1": "horseno",
          "Var2": "row"
         },
         {
          "Correlation": -0.11249686892766157,
          "Var1": "actualwt",
          "Var2": "row"
         },
         {
          "Correlation": -0.03879119782096232,
          "Var1": "declarwt",
          "Var2": "row"
         },
         {
          "Correlation": 0.12251942980724596,
          "Var1": "draw",
          "Var2": "row"
         },
         {
          "Correlation": 0.47674765973981353,
          "Var1": "winodds",
          "Var2": "row"
         },
         {
          "Correlation": 0.03189905405571103,
          "Var1": "raceno",
          "Var2": "row"
         },
         {
          "Correlation": 0.027522943367124367,
          "Var1": "class",
          "Var2": "row"
         },
         {
          "Correlation": 0.00782034205414461,
          "Var1": "distance",
          "Var2": "row"
         },
         {
          "Correlation": -0.005875705037605047,
          "Var1": "stake",
          "Var2": "row"
         },
         {
          "Correlation": -0.23908887935443784,
          "Var1": "current_rating",
          "Var2": "row"
         },
         {
          "Correlation": -0.23992142068937125,
          "Var1": "start_rating",
          "Var2": "row"
         },
         {
          "Correlation": -0.017418345249652946,
          "Var1": "age",
          "Var2": "row"
         },
         {
          "Correlation": 0.13505482818109138,
          "Var1": "row",
          "Var2": "horseno"
         },
         {
          "Correlation": 1,
          "Var1": "horseno",
          "Var2": "horseno"
         },
         {
          "Correlation": -0.8030313316831537,
          "Var1": "actualwt",
          "Var2": "horseno"
         },
         {
          "Correlation": -0.037853561245846865,
          "Var1": "declarwt",
          "Var2": "horseno"
         },
         {
          "Correlation": 0.03215855189857673,
          "Var1": "draw",
          "Var2": "horseno"
         },
         {
          "Correlation": 0.22199166459420958,
          "Var1": "winodds",
          "Var2": "horseno"
         },
         {
          "Correlation": 0.027872290524997345,
          "Var1": "raceno",
          "Var2": "horseno"
         },
         {
          "Correlation": 0.0298246159075071,
          "Var1": "class",
          "Var2": "horseno"
         },
         {
          "Correlation": 0.01581409987111138,
          "Var1": "distance",
          "Var2": "horseno"
         },
         {
          "Correlation": 0.0040216696586913335,
          "Var1": "stake",
          "Var2": "horseno"
         },
         {
          "Correlation": -0.18814690113066077,
          "Var1": "current_rating",
          "Var2": "horseno"
         },
         {
          "Correlation": -0.2006626811594177,
          "Var1": "start_rating",
          "Var2": "horseno"
         },
         {
          "Correlation": 0.0006290860707616953,
          "Var1": "age",
          "Var2": "horseno"
         },
         {
          "Correlation": -0.11249686892766157,
          "Var1": "row",
          "Var2": "actualwt"
         },
         {
          "Correlation": -0.8030313316831537,
          "Var1": "horseno",
          "Var2": "actualwt"
         },
         {
          "Correlation": 1,
          "Var1": "actualwt",
          "Var2": "actualwt"
         },
         {
          "Correlation": 0.027033704515411327,
          "Var1": "declarwt",
          "Var2": "actualwt"
         },
         {
          "Correlation": -0.0033829900384399827,
          "Var1": "draw",
          "Var2": "actualwt"
         },
         {
          "Correlation": -0.2211261751008836,
          "Var1": "winodds",
          "Var2": "actualwt"
         },
         {
          "Correlation": -0.08577415069363643,
          "Var1": "raceno",
          "Var2": "actualwt"
         },
         {
          "Correlation": 0.0931603434356358,
          "Var1": "class",
          "Var2": "actualwt"
         },
         {
          "Correlation": 0.0036485312712739152,
          "Var1": "distance",
          "Var2": "actualwt"
         },
         {
          "Correlation": 0.028696271947503467,
          "Var1": "stake",
          "Var2": "actualwt"
         },
         {
          "Correlation": 0.13202535683684116,
          "Var1": "current_rating",
          "Var2": "actualwt"
         },
         {
          "Correlation": 0.1380407986972012,
          "Var1": "start_rating",
          "Var2": "actualwt"
         },
         {
          "Correlation": -0.029537712751210175,
          "Var1": "age",
          "Var2": "actualwt"
         },
         {
          "Correlation": -0.03879119782096232,
          "Var1": "row",
          "Var2": "declarwt"
         },
         {
          "Correlation": -0.037853561245846865,
          "Var1": "horseno",
          "Var2": "declarwt"
         },
         {
          "Correlation": 0.027033704515411327,
          "Var1": "actualwt",
          "Var2": "declarwt"
         },
         {
          "Correlation": 1,
          "Var1": "declarwt",
          "Var2": "declarwt"
         },
         {
          "Correlation": -0.00020658468264644946,
          "Var1": "draw",
          "Var2": "declarwt"
         },
         {
          "Correlation": -0.08790897815171023,
          "Var1": "winodds",
          "Var2": "declarwt"
         },
         {
          "Correlation": 0.12294220890951202,
          "Var1": "raceno",
          "Var2": "declarwt"
         },
         {
          "Correlation": -0.15523208670092323,
          "Var1": "class",
          "Var2": "declarwt"
         },
         {
          "Correlation": -0.11659571779159394,
          "Var1": "distance",
          "Var2": "declarwt"
         },
         {
          "Correlation": 0.050568180165660156,
          "Var1": "stake",
          "Var2": "declarwt"
         },
         {
          "Correlation": 0.1454854367321414,
          "Var1": "current_rating",
          "Var2": "declarwt"
         },
         {
          "Correlation": 0.18105107930304903,
          "Var1": "start_rating",
          "Var2": "declarwt"
         },
         {
          "Correlation": 0.03523156006488658,
          "Var1": "age",
          "Var2": "declarwt"
         },
         {
          "Correlation": 0.12251942980724596,
          "Var1": "row",
          "Var2": "draw"
         },
         {
          "Correlation": 0.03215855189857673,
          "Var1": "horseno",
          "Var2": "draw"
         },
         {
          "Correlation": -0.0033829900384399827,
          "Var1": "actualwt",
          "Var2": "draw"
         },
         {
          "Correlation": -0.00020658468264644946,
          "Var1": "declarwt",
          "Var2": "draw"
         },
         {
          "Correlation": 1,
          "Var1": "draw",
          "Var2": "draw"
         },
         {
          "Correlation": 0.15266565633966422,
          "Var1": "winodds",
          "Var2": "draw"
         },
         {
          "Correlation": 0.06909820584487442,
          "Var1": "raceno",
          "Var2": "draw"
         },
         {
          "Correlation": 0.03205897249002497,
          "Var1": "class",
          "Var2": "draw"
         },
         {
          "Correlation": 0.13857687580522854,
          "Var1": "distance",
          "Var2": "draw"
         },
         {
          "Correlation": -6.774592962153828e-06,
          "Var1": "stake",
          "Var2": "draw"
         },
         {
          "Correlation": -0.02511171010893187,
          "Var1": "current_rating",
          "Var2": "draw"
         },
         {
          "Correlation": -0.027718988201141083,
          "Var1": "start_rating",
          "Var2": "draw"
         },
         {
          "Correlation": 0.07296253085015979,
          "Var1": "age",
          "Var2": "draw"
         },
         {
          "Correlation": 0.47674765973981353,
          "Var1": "row",
          "Var2": "winodds"
         },
         {
          "Correlation": 0.22199166459420958,
          "Var1": "horseno",
          "Var2": "winodds"
         },
         {
          "Correlation": -0.2211261751008836,
          "Var1": "actualwt",
          "Var2": "winodds"
         },
         {
          "Correlation": -0.08790897815171023,
          "Var1": "declarwt",
          "Var2": "winodds"
         },
         {
          "Correlation": 0.15266565633966422,
          "Var1": "draw",
          "Var2": "winodds"
         },
         {
          "Correlation": 1,
          "Var1": "winodds",
          "Var2": "winodds"
         },
         {
          "Correlation": 0.0631434050639158,
          "Var1": "raceno",
          "Var2": "winodds"
         },
         {
          "Correlation": -0.047721513473685986,
          "Var1": "class",
          "Var2": "winodds"
         },
         {
          "Correlation": -0.06898917941620904,
          "Var1": "distance",
          "Var2": "winodds"
         },
         {
          "Correlation": 0.024666994366488792,
          "Var1": "stake",
          "Var2": "winodds"
         },
         {
          "Correlation": -0.22142700077959834,
          "Var1": "current_rating",
          "Var2": "winodds"
         },
         {
          "Correlation": -0.21798752525899118,
          "Var1": "start_rating",
          "Var2": "winodds"
         },
         {
          "Correlation": -0.06347520956108496,
          "Var1": "age",
          "Var2": "winodds"
         },
         {
          "Correlation": 0.03189905405571103,
          "Var1": "row",
          "Var2": "raceno"
         },
         {
          "Correlation": 0.027872290524997345,
          "Var1": "horseno",
          "Var2": "raceno"
         },
         {
          "Correlation": -0.08577415069363643,
          "Var1": "actualwt",
          "Var2": "raceno"
         },
         {
          "Correlation": 0.12294220890951202,
          "Var1": "declarwt",
          "Var2": "raceno"
         },
         {
          "Correlation": 0.06909820584487442,
          "Var1": "draw",
          "Var2": "raceno"
         },
         {
          "Correlation": 0.0631434050639158,
          "Var1": "winodds",
          "Var2": "raceno"
         },
         {
          "Correlation": 1,
          "Var1": "raceno",
          "Var2": "raceno"
         },
         {
          "Correlation": -0.6765323480570522,
          "Var1": "class",
          "Var2": "raceno"
         },
         {
          "Correlation": 0.09224740298612713,
          "Var1": "distance",
          "Var2": "raceno"
         },
         {
          "Correlation": 0.19654372712993792,
          "Var1": "stake",
          "Var2": "raceno"
         },
         {
          "Correlation": 0.19805500857360328,
          "Var1": "current_rating",
          "Var2": "raceno"
         },
         {
          "Correlation": 0.20673148975101308,
          "Var1": "start_rating",
          "Var2": "raceno"
         },
         {
          "Correlation": 0.05513797074840865,
          "Var1": "age",
          "Var2": "raceno"
         },
         {
          "Correlation": 0.027522943367124367,
          "Var1": "row",
          "Var2": "class"
         },
         {
          "Correlation": 0.0298246159075071,
          "Var1": "horseno",
          "Var2": "class"
         },
         {
          "Correlation": 0.0931603434356358,
          "Var1": "actualwt",
          "Var2": "class"
         },
         {
          "Correlation": -0.15523208670092323,
          "Var1": "declarwt",
          "Var2": "class"
         },
         {
          "Correlation": 0.03205897249002497,
          "Var1": "draw",
          "Var2": "class"
         },
         {
          "Correlation": -0.047721513473685986,
          "Var1": "winodds",
          "Var2": "class"
         },
         {
          "Correlation": -0.6765323480570522,
          "Var1": "raceno",
          "Var2": "class"
         },
         {
          "Correlation": 1,
          "Var1": "class",
          "Var2": "class"
         },
         {
          "Correlation": 0.016344624664268132,
          "Var1": "distance",
          "Var2": "class"
         },
         {
          "Correlation": -0.4155062386544579,
          "Var1": "stake",
          "Var2": "class"
         },
         {
          "Correlation": -0.6695342400439451,
          "Var1": "current_rating",
          "Var2": "class"
         },
         {
          "Correlation": -0.7006174449702568,
          "Var1": "start_rating",
          "Var2": "class"
         },
         {
          "Correlation": 0.0043949268738858556,
          "Var1": "age",
          "Var2": "class"
         },
         {
          "Correlation": 0.00782034205414461,
          "Var1": "row",
          "Var2": "distance"
         },
         {
          "Correlation": 0.01581409987111138,
          "Var1": "horseno",
          "Var2": "distance"
         },
         {
          "Correlation": 0.0036485312712739152,
          "Var1": "actualwt",
          "Var2": "distance"
         },
         {
          "Correlation": -0.11659571779159394,
          "Var1": "declarwt",
          "Var2": "distance"
         },
         {
          "Correlation": 0.13857687580522854,
          "Var1": "draw",
          "Var2": "distance"
         },
         {
          "Correlation": -0.06898917941620904,
          "Var1": "winodds",
          "Var2": "distance"
         },
         {
          "Correlation": 0.09224740298612713,
          "Var1": "raceno",
          "Var2": "distance"
         },
         {
          "Correlation": 0.016344624664268132,
          "Var1": "class",
          "Var2": "distance"
         },
         {
          "Correlation": 1,
          "Var1": "distance",
          "Var2": "distance"
         },
         {
          "Correlation": 0.15136680089500912,
          "Var1": "stake",
          "Var2": "distance"
         },
         {
          "Correlation": 0.008721474964862808,
          "Var1": "current_rating",
          "Var2": "distance"
         },
         {
          "Correlation": 0.015945425227248712,
          "Var1": "start_rating",
          "Var2": "distance"
         },
         {
          "Correlation": 0.26194945961768334,
          "Var1": "age",
          "Var2": "distance"
         },
         {
          "Correlation": -0.005875705037605047,
          "Var1": "row",
          "Var2": "stake"
         },
         {
          "Correlation": 0.0040216696586913335,
          "Var1": "horseno",
          "Var2": "stake"
         },
         {
          "Correlation": 0.028696271947503467,
          "Var1": "actualwt",
          "Var2": "stake"
         },
         {
          "Correlation": 0.050568180165660156,
          "Var1": "declarwt",
          "Var2": "stake"
         },
         {
          "Correlation": -6.774592962153828e-06,
          "Var1": "draw",
          "Var2": "stake"
         },
         {
          "Correlation": 0.024666994366488792,
          "Var1": "winodds",
          "Var2": "stake"
         },
         {
          "Correlation": 0.19654372712993792,
          "Var1": "raceno",
          "Var2": "stake"
         },
         {
          "Correlation": -0.4155062386544579,
          "Var1": "class",
          "Var2": "stake"
         },
         {
          "Correlation": 0.15136680089500912,
          "Var1": "distance",
          "Var2": "stake"
         },
         {
          "Correlation": 1,
          "Var1": "stake",
          "Var2": "stake"
         },
         {
          "Correlation": 0.37351345750068965,
          "Var1": "current_rating",
          "Var2": "stake"
         },
         {
          "Correlation": 0.39863708811268567,
          "Var1": "start_rating",
          "Var2": "stake"
         },
         {
          "Correlation": 0.037204345440383306,
          "Var1": "age",
          "Var2": "stake"
         },
         {
          "Correlation": -0.23908887935443784,
          "Var1": "row",
          "Var2": "current_rating"
         },
         {
          "Correlation": -0.18814690113066077,
          "Var1": "horseno",
          "Var2": "current_rating"
         },
         {
          "Correlation": 0.13202535683684116,
          "Var1": "actualwt",
          "Var2": "current_rating"
         },
         {
          "Correlation": 0.1454854367321414,
          "Var1": "declarwt",
          "Var2": "current_rating"
         },
         {
          "Correlation": -0.02511171010893187,
          "Var1": "draw",
          "Var2": "current_rating"
         },
         {
          "Correlation": -0.22142700077959834,
          "Var1": "winodds",
          "Var2": "current_rating"
         },
         {
          "Correlation": 0.19805500857360328,
          "Var1": "raceno",
          "Var2": "current_rating"
         },
         {
          "Correlation": -0.6695342400439451,
          "Var1": "class",
          "Var2": "current_rating"
         },
         {
          "Correlation": 0.008721474964862808,
          "Var1": "distance",
          "Var2": "current_rating"
         },
         {
          "Correlation": 0.37351345750068965,
          "Var1": "stake",
          "Var2": "current_rating"
         },
         {
          "Correlation": 1,
          "Var1": "current_rating",
          "Var2": "current_rating"
         },
         {
          "Correlation": 0.9601775920221012,
          "Var1": "start_rating",
          "Var2": "current_rating"
         },
         {
          "Correlation": -0.051007028415919795,
          "Var1": "age",
          "Var2": "current_rating"
         },
         {
          "Correlation": -0.23992142068937125,
          "Var1": "row",
          "Var2": "start_rating"
         },
         {
          "Correlation": -0.2006626811594177,
          "Var1": "horseno",
          "Var2": "start_rating"
         },
         {
          "Correlation": 0.1380407986972012,
          "Var1": "actualwt",
          "Var2": "start_rating"
         },
         {
          "Correlation": 0.18105107930304903,
          "Var1": "declarwt",
          "Var2": "start_rating"
         },
         {
          "Correlation": -0.027718988201141083,
          "Var1": "draw",
          "Var2": "start_rating"
         },
         {
          "Correlation": -0.21798752525899118,
          "Var1": "winodds",
          "Var2": "start_rating"
         },
         {
          "Correlation": 0.20673148975101308,
          "Var1": "raceno",
          "Var2": "start_rating"
         },
         {
          "Correlation": -0.7006174449702568,
          "Var1": "class",
          "Var2": "start_rating"
         },
         {
          "Correlation": 0.015945425227248712,
          "Var1": "distance",
          "Var2": "start_rating"
         },
         {
          "Correlation": 0.39863708811268567,
          "Var1": "stake",
          "Var2": "start_rating"
         },
         {
          "Correlation": 0.9601775920221012,
          "Var1": "current_rating",
          "Var2": "start_rating"
         },
         {
          "Correlation": 1,
          "Var1": "start_rating",
          "Var2": "start_rating"
         },
         {
          "Correlation": -0.029279921634145632,
          "Var1": "age",
          "Var2": "start_rating"
         },
         {
          "Correlation": -0.017418345249652946,
          "Var1": "row",
          "Var2": "age"
         },
         {
          "Correlation": 0.0006290860707616953,
          "Var1": "horseno",
          "Var2": "age"
         },
         {
          "Correlation": -0.029537712751210175,
          "Var1": "actualwt",
          "Var2": "age"
         },
         {
          "Correlation": 0.03523156006488658,
          "Var1": "declarwt",
          "Var2": "age"
         },
         {
          "Correlation": 0.07296253085015979,
          "Var1": "draw",
          "Var2": "age"
         },
         {
          "Correlation": -0.06347520956108496,
          "Var1": "winodds",
          "Var2": "age"
         },
         {
          "Correlation": 0.05513797074840865,
          "Var1": "raceno",
          "Var2": "age"
         },
         {
          "Correlation": 0.0043949268738858556,
          "Var1": "class",
          "Var2": "age"
         },
         {
          "Correlation": 0.26194945961768334,
          "Var1": "distance",
          "Var2": "age"
         },
         {
          "Correlation": 0.037204345440383306,
          "Var1": "stake",
          "Var2": "age"
         },
         {
          "Correlation": -0.051007028415919795,
          "Var1": "current_rating",
          "Var2": "age"
         },
         {
          "Correlation": -0.029279921634145632,
          "Var1": "start_rating",
          "Var2": "age"
         },
         {
          "Correlation": 1,
          "Var1": "age",
          "Var2": "age"
         }
        ]
       },
       "height": 500,
       "layer": [
        {
         "encoding": {
          "color": {
           "field": "Correlation",
           "scale": {
            "scheme": "viridis"
           },
           "type": "quantitative"
          },
          "x": {
           "field": "Var2",
           "type": "nominal"
          },
          "y": {
           "field": "Var1",
           "type": "nominal"
          }
         },
         "mark": "rect"
        },
        {
         "encoding": {
          "color": {
           "condition": {
            "test": "(datum.Correlation >= 0.9)",
            "value": "black"
           },
           "value": "white"
          },
          "text": {
           "field": "Correlation",
           "format": ".2",
           "type": "quantitative"
          },
          "x": {
           "field": "Var2",
           "type": "nominal"
          },
          "y": {
           "field": "Var1",
           "type": "nominal"
          }
         },
         "mark": {
          "baseline": "middle",
          "type": "text"
         }
        }
       ],
       "title": "Pearson's correlation",
       "width": 500
      },
      "image/png": "[encoded data removed]",
      "text/plain": [
       "<VegaLite 3 object>\n",
       "\n",
       "If you see this message, it means the renderer has not been properly enabled\n",
       "for the frontend that you are using. For more information, see\n",
       "https://altair-viz.github.io/user_guide/troubleshooting.html\n"
      ]
     },
     "execution_count": 12,
     "metadata": {},
     "output_type": "execute_result"
    }
   ],
   "source": [
    "vehicles_corr = train_data.corr().reset_index().rename(columns = {'index':'Var1'}).melt(id_vars = ['Var1'],\n",
    "                                                                                    value_name = 'Correlation',\n",
    "                                                                                    var_name = 'Var2')\n",
    "base = alt.Chart(vehicles_corr).encode(\n",
    "    alt.Y('Var1:N'),\n",
    "    alt.X('Var2:N')\n",
    ") \n",
    "\n",
    "heatmap = base.mark_rect().encode(\n",
    "     alt.Color('Correlation:Q',\n",
    "                scale=alt.Scale(scheme='viridis'))\n",
    ")\n",
    "\n",
    "text = base.mark_text(baseline='middle').encode(\n",
    "    text=alt.Text('Correlation:Q', format='.2'),\n",
    "    color=alt.condition(\n",
    "        alt.datum.Correlation >= 0.90,\n",
    "        alt.value('black'),\n",
    "        alt.value('white')\n",
    "    )\n",
    ")\n",
    "\n",
    "(heatmap + text).properties(\n",
    "    width = 500,\n",
    "    height = 500,\n",
    "    title = \"Pearson's correlation\"\n",
    ")\n",
    "#change the values to look at different feature correlations "
   ]
  },
  {
   "cell_type": "code",
   "execution_count": 13,
   "metadata": {},
   "outputs": [
    {
     "data": {
      "text/plain": [
       "DataTransformerRegistry.enable('json')"
      ]
     },
     "execution_count": 13,
     "metadata": {},
     "output_type": "execute_result"
    }
   ],
   "source": [
    "train_data = train_data[~train_data['plc'].isna()]\n",
    "alt.data_transformers.enable('json')\n"
   ]
  },
  {
   "cell_type": "code",
   "execution_count": 14,
   "metadata": {},
   "outputs": [
    {
     "name": "stderr",
     "output_type": "stream",
     "text": [
      "/home/dkruszew/anaconda3/lib/python3.7/site-packages/ipykernel_launcher.py:3: SettingWithCopyWarning: \n",
      "A value is trying to be set on a copy of a slice from a DataFrame.\n",
      "Try using .loc[row_indexer,col_indexer] = value instead\n",
      "\n",
      "See the caveats in the documentation: http://pandas.pydata.org/pandas-docs/stable/user_guide/indexing.html#returning-a-view-versus-a-copy\n",
      "  This is separate from the ipykernel package so we can avoid doing imports until\n",
      "/home/dkruszew/anaconda3/lib/python3.7/site-packages/ipykernel_launcher.py:4: SettingWithCopyWarning: \n",
      "A value is trying to be set on a copy of a slice from a DataFrame.\n",
      "Try using .loc[row_indexer,col_indexer] = value instead\n",
      "\n",
      "See the caveats in the documentation: http://pandas.pydata.org/pandas-docs/stable/user_guide/indexing.html#returning-a-view-versus-a-copy\n",
      "  after removing the cwd from sys.path.\n"
     ]
    },
    {
     "data": {
      "application/vnd.vegalite.v3+json": {
       "$schema": "https://vega.github.io/schema/vega-lite/v3.4.0.json",
       "config": {
        "axis": {
         "labelFontSize": 15,
         "titleFontSize": 15
        },
        "mark": {
         "tooltip": null
        },
        "title": {
         "fontSize": 16
        },
        "view": {
         "height": 300,
         "width": 400
        }
       },
       "data": {
        "format": {
         "type": "json"
        },
        "url": "altair-data-2dc4571fc013650c98ebbf5ed29c23ca.json"
       },
       "encoding": {
        "x": {
         "field": "winodds",
         "scale": {
          "zero": false
         },
         "title": "Win odds",
         "type": "quantitative"
        },
        "y": {
         "field": "plc",
         "title": "Placement",
         "type": "quantitative"
        }
       },
       "height": 300,
       "mark": "line",
       "title": "Average numerical placement of horses by win odds",
       "width": 500
      },
      "image/png": "[encoded data removed]",
      "text/plain": [
       "<VegaLite 3 object>\n",
       "\n",
       "If you see this message, it means the renderer has not been properly enabled\n",
       "for the frontend that you are using. For more information, see\n",
       "https://altair-viz.github.io/user_guide/troubleshooting.html\n"
      ]
     },
     "execution_count": 14,
     "metadata": {},
     "output_type": "execute_result"
    }
   ],
   "source": [
    "# Plot1 visualize class vs the place they were in \n",
    "filtered_pos_df = train_data[train_data[\"plc\"].isin([str(x) for x in range(0, 20)])]\n",
    "filtered_pos_df[\"plc\"] = filtered_pos_df[\"plc\"].apply(lambda x: int(x))\n",
    "filtered_pos_df[\"winodds\"] = filtered_pos_df[\"winodds\"].apply(lambda x: int(x))\n",
    "\n",
    "alt.Chart(filtered_pos_df.groupby(\"winodds\").mean().reset_index()).mark_line().encode(\n",
    "    x=alt.X('winodds:Q', scale=alt.Scale(zero=False), title=\"Win odds\"),\n",
    "    y=alt.Y('plc:Q', title=\"Placement\"),\n",
    ").properties(width=500, height=300, title='Average numerical placement of horses by win odds'\n",
    ").configure_axis(titleFontSize=15, labelFontSize=15\n",
    ").configure_title(fontSize=16)"
   ]
  },
  {
   "cell_type": "code",
   "execution_count": 15,
   "metadata": {},
   "outputs": [
    {
     "data": {
      "application/vnd.vegalite.v3+json": {
       "$schema": "https://vega.github.io/schema/vega-lite/v3.4.0.json",
       "config": {
        "mark": {
         "tooltip": null
        },
        "view": {
         "height": 300,
         "width": 400
        }
       },
       "data": {
        "format": {
         "type": "json"
        },
        "url": "altair-data-fea59410364a5366c7311200701e096b.json"
       },
       "encoding": {
        "x": {
         "bin": true,
         "field": "age",
         "type": "quantitative"
        },
        "y": {
         "aggregate": "count",
         "type": "quantitative"
        }
       },
       "mark": "bar",
       "title": "Distribution of Age"
      },
      "image/png": "[encoded data removed]",
      "text/plain": [
       "<VegaLite 3 object>\n",
       "\n",
       "If you see this message, it means the renderer has not been properly enabled\n",
       "for the frontend that you are using. For more information, see\n",
       "https://altair-viz.github.io/user_guide/troubleshooting.html\n"
      ]
     },
     "execution_count": 15,
     "metadata": {},
     "output_type": "execute_result"
    }
   ],
   "source": [
    "alt.Chart(train_data).mark_bar().encode(\n",
    "    alt.X(\"age\", bin=True),\n",
    "    y='count()',\n",
    ").properties(\n",
    "    title= 'Distribution of Age')"
   ]
  },
  {
   "cell_type": "code",
   "execution_count": 16,
   "metadata": {},
   "outputs": [
    {
     "data": {
      "text/plain": [
       "Index(['row', 'plc', 'horseno', 'horse', 'jockey', 'trainer_x', 'actualwt',\n",
       "       'declarwt', 'draw', 'lbw', 'runningpos', 'finishtime', 'winodds',\n",
       "       'date', 'raceno', 'class', 'distance', 'going', 'handicap', 'course',\n",
       "       'stake', 'venue', 'dataset', 'gear', 'comment', 'time', 'result',\n",
       "       'country', 'colour', 'sex', 'owner', 'import_type', 'current_rating',\n",
       "       'start_rating', 'sire', 'dam', 'age'],\n",
       "      dtype='object')"
      ]
     },
     "execution_count": 16,
     "metadata": {},
     "output_type": "execute_result"
    }
   ],
   "source": [
    "train_data.columns"
   ]
  },
  {
   "cell_type": "code",
   "execution_count": 17,
   "metadata": {},
   "outputs": [
    {
     "data": {
      "application/vnd.vegalite.v3+json": {
       "$schema": "https://vega.github.io/schema/vega-lite/v3.4.0.json",
       "config": {
        "axis": {
         "labelFontSize": 15,
         "titleFontSize": 15
        },
        "mark": {
         "tooltip": null
        },
        "title": {
         "fontSize": 16
        },
        "view": {
         "height": 300,
         "width": 400
        }
       },
       "data": {
        "format": {
         "type": "json"
        },
        "url": "altair-data-fea59410364a5366c7311200701e096b.json"
       },
       "encoding": {
        "x": {
         "field": "country",
         "title": "Country",
         "type": "nominal"
        },
        "y": {
         "field": "plc",
         "title": "Placement",
         "type": "quantitative"
        }
       },
       "height": 300,
       "mark": "boxplot",
       "title": "Distribution of numerical placement values of horses by Country",
       "width": 500
      },
      "image/png": "[encoded data removed]",
      "text/plain": [
       "<VegaLite 3 object>\n",
       "\n",
       "If you see this message, it means the renderer has not been properly enabled\n",
       "for the frontend that you are using. For more information, see\n",
       "https://altair-viz.github.io/user_guide/troubleshooting.html\n"
      ]
     },
     "execution_count": 17,
     "metadata": {},
     "output_type": "execute_result"
    }
   ],
   "source": [
    "alt.Chart(train_data).mark_boxplot().encode(\n",
    "    x=alt.X('country:N', title = \"Country\"),\n",
    "    y=alt.Y('plc:Q', title = \"Placement\")\n",
    ").properties(height=300, width= 500, title=\"Distribution of numerical placement values of horses by Country\"\n",
    ").configure_axis(titleFontSize=15, labelFontSize=15\n",
    ").configure_title(fontSize=16)"
   ]
  },
  {
   "cell_type": "code",
   "execution_count": 18,
   "metadata": {},
   "outputs": [
    {
     "data": {
      "application/vnd.vegalite.v3+json": {
       "$schema": "https://vega.github.io/schema/vega-lite/v3.4.0.json",
       "config": {
        "axis": {
         "labelFontSize": 15,
         "titleFontSize": 15
        },
        "mark": {
         "tooltip": null
        },
        "title": {
         "fontSize": 16
        },
        "view": {
         "height": 300,
         "width": 400
        }
       },
       "data": {
        "format": {
         "type": "json"
        },
        "url": "altair-data-fea59410364a5366c7311200701e096b.json"
       },
       "encoding": {
        "x": {
         "field": "declarwt",
         "scale": {
          "zero": false
         },
         "title": "Weight",
         "type": "quantitative"
        },
        "y": {
         "field": "plc",
         "title": "Placement",
         "type": "nominal"
        }
       },
       "height": 750,
       "mark": "boxplot",
       "title": "Distribution of all placement values of horses by weight",
       "width": 500
      },
      "image/png": "[encoded data removed]",
      "text/plain": [
       "<VegaLite 3 object>\n",
       "\n",
       "If you see this message, it means the renderer has not been properly enabled\n",
       "for the frontend that you are using. For more information, see\n",
       "https://altair-viz.github.io/user_guide/troubleshooting.html\n"
      ]
     },
     "execution_count": 18,
     "metadata": {},
     "output_type": "execute_result"
    }
   ],
   "source": [
    "alt.Chart(train_data).mark_boxplot().encode(\n",
    "    x=alt.X('declarwt:Q', scale=alt.Scale(zero=False), title=\"Weight\"),\n",
    "    y=alt.Y('plc:N', title=\"Placement\")\n",
    ").properties(height=750, width= 500, title=\"Distribution of all placement values of horses by weight\"\n",
    ").configure_axis(titleFontSize=15, labelFontSize=15\n",
    ").configure_title(fontSize=16)"
   ]
  },
  {
   "cell_type": "code",
   "execution_count": null,
   "metadata": {},
   "outputs": [],
   "source": []
  }
 ],
 "metadata": {
  "kernelspec": {
   "display_name": "Python 3",
   "language": "python",
   "name": "python3"
  },
  "language_info": {
   "codemirror_mode": {
    "name": "ipython",
    "version": 3
   },
   "file_extension": ".py",
   "mimetype": "text/x-python",
   "name": "python",
   "nbconvert_exporter": "python",
   "pygments_lexer": "ipython3",
   "version": "3.7.5"
  }
 },
 "nbformat": 4,
 "nbformat_minor": 4
}
