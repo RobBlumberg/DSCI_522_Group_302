{
 "cells": [
  {
   "cell_type": "code",
   "execution_count": 2,
   "metadata": {},
   "outputs": [],
   "source": [
    "import numpy as np\n",
    "import pandas as pd\n",
    "import altair as alt\n",
    "from sklearn.model_selection import train_test_split"
   ]
  },
  {
   "cell_type": "code",
   "execution_count": 3,
   "metadata": {},
   "outputs": [],
   "source": [
    "list_of_invalid_entries = ['1 DH', '2 DH', '3 DH', '4 DH', '5 DH', '6 DH', 'WV',\n",
    "                               '7 DH', '8 DH', 'PU', '9 DH', 'UR', 'WV-A', 'FE', 'DNF', 'WX', 'TNP', 'WX-A', 'DISQ']\n",
    "\n",
    "horse_info = pd.read_csv(\"horse_info.csv\",\n",
    "                         index_col=0)\n",
    "results = pd.read_csv(\"results.csv\",\n",
    "                      index_col=0,\n",
    "                      dtype={\"plc\": np.float64},\n",
    "                      na_values=list_of_invalid_entries)\n",
    "comments = pd.read_csv(\"comments.csv\",\n",
    "                       index_col=0,\n",
    "                       dtype={\"plc\": np.float64},\n",
    "                       na_values=list_of_invalid_entries)\n",
    "track_work = pd.read_csv(\"trackwork.csv\",\n",
    "                         index_col=0)\n",
    "barrier = pd.read_csv(\"barrier.csv\",\n",
    "                      index_col=0)"
   ]
  },
  {
   "cell_type": "code",
   "execution_count": 4,
   "metadata": {},
   "outputs": [],
   "source": [
    "results['dataset'] = 'results'\n",
    "results_comments = pd.merge(results, comments, how=\"left\", on=[\"date\", \"raceno\", \"plc\", \"horseno\"])"
   ]
  },
  {
   "cell_type": "code",
   "execution_count": 5,
   "metadata": {},
   "outputs": [],
   "source": [
    "barrier.rename(columns={\"time\": \"finishtime\"})\n",
    "barrier['dataset'] = 'barrier'\n",
    "results_comments_barriers = pd.concat((results_comments, barrier), axis=0, ignore_index=False, sort=False)"
   ]
  },
  {
   "cell_type": "code",
   "execution_count": 6,
   "metadata": {},
   "outputs": [],
   "source": [
    "final_df = pd.merge(results_comments_barriers, horse_info, how=\"left\", on=[\"horse\"])"
   ]
  },
  {
   "cell_type": "code",
   "execution_count": 7,
   "metadata": {},
   "outputs": [],
   "source": [
    "final_df = final_df[final_df.columns[~final_df.columns.str.contains('.*_ch')]]"
   ]
  },
  {
   "cell_type": "code",
   "execution_count": 8,
   "metadata": {},
   "outputs": [],
   "source": [
    "final_df = final_df.drop(['trainer_y'], axis=1)"
   ]
  },
  {
   "cell_type": "code",
   "execution_count": 9,
   "metadata": {},
   "outputs": [
    {
     "data": {
      "text/plain": [
       "Index(['row', 'plc', 'horseno', 'horse', 'jockey', 'trainer_x', 'actualwt',\n",
       "       'declarwt', 'draw', 'lbw', 'runningpos', 'finishtime', 'winodds',\n",
       "       'date', 'raceno', 'class', 'distance', 'going', 'handicap', 'course',\n",
       "       'stake', 'venue', 'dataset', 'gear', 'comment', 'time', 'result',\n",
       "       'country', 'colour', 'sex', 'owner', 'import_type', 'current_rating',\n",
       "       'start_rating', 'sire', 'dam', 'age'],\n",
       "      dtype='object')"
      ]
     },
     "execution_count": 9,
     "metadata": {},
     "output_type": "execute_result"
    }
   ],
   "source": [
    "final_df.columns"
   ]
  },
  {
   "cell_type": "code",
   "execution_count": 10,
   "metadata": {},
   "outputs": [],
   "source": [
    "data_train, data_test = train_test_split(final_df, \n",
    "                                             random_state=1,\n",
    "                                             test_size=0.2,\n",
    "                                             shuffle=True)"
   ]
  },
  {
   "cell_type": "code",
   "execution_count": 11,
   "metadata": {},
   "outputs": [
    {
     "data": {
      "text/html": [
       "<div>\n",
       "<style scoped>\n",
       "    .dataframe tbody tr th:only-of-type {\n",
       "        vertical-align: middle;\n",
       "    }\n",
       "\n",
       "    .dataframe tbody tr th {\n",
       "        vertical-align: top;\n",
       "    }\n",
       "\n",
       "    .dataframe thead th {\n",
       "        text-align: right;\n",
       "    }\n",
       "</style>\n",
       "<table border=\"1\" class=\"dataframe\">\n",
       "  <thead>\n",
       "    <tr style=\"text-align: right;\">\n",
       "      <th></th>\n",
       "      <th>row</th>\n",
       "      <th>plc</th>\n",
       "      <th>horseno</th>\n",
       "      <th>horse</th>\n",
       "      <th>jockey</th>\n",
       "      <th>trainer_x</th>\n",
       "      <th>actualwt</th>\n",
       "      <th>declarwt</th>\n",
       "      <th>draw</th>\n",
       "      <th>lbw</th>\n",
       "      <th>...</th>\n",
       "      <th>country</th>\n",
       "      <th>colour</th>\n",
       "      <th>sex</th>\n",
       "      <th>owner</th>\n",
       "      <th>import_type</th>\n",
       "      <th>current_rating</th>\n",
       "      <th>start_rating</th>\n",
       "      <th>sire</th>\n",
       "      <th>dam</th>\n",
       "      <th>age</th>\n",
       "    </tr>\n",
       "  </thead>\n",
       "  <tbody>\n",
       "    <tr>\n",
       "      <th>count</th>\n",
       "      <td>11285.000000</td>\n",
       "      <td>18422.000000</td>\n",
       "      <td>11146.000000</td>\n",
       "      <td>18744</td>\n",
       "      <td>18541</td>\n",
       "      <td>18744</td>\n",
       "      <td>11284.000000</td>\n",
       "      <td>11251.000000</td>\n",
       "      <td>18508.000000</td>\n",
       "      <td>17698</td>\n",
       "      <td>...</td>\n",
       "      <td>18397</td>\n",
       "      <td>18397</td>\n",
       "      <td>18397</td>\n",
       "      <td>18397</td>\n",
       "      <td>18392</td>\n",
       "      <td>9144.000000</td>\n",
       "      <td>9144.000000</td>\n",
       "      <td>18397</td>\n",
       "      <td>18397</td>\n",
       "      <td>9144.000000</td>\n",
       "    </tr>\n",
       "    <tr>\n",
       "      <th>unique</th>\n",
       "      <td>NaN</td>\n",
       "      <td>NaN</td>\n",
       "      <td>NaN</td>\n",
       "      <td>1962</td>\n",
       "      <td>92</td>\n",
       "      <td>69</td>\n",
       "      <td>NaN</td>\n",
       "      <td>NaN</td>\n",
       "      <td>NaN</td>\n",
       "      <td>321</td>\n",
       "      <td>...</td>\n",
       "      <td>13</td>\n",
       "      <td>7</td>\n",
       "      <td>7</td>\n",
       "      <td>1447</td>\n",
       "      <td>21</td>\n",
       "      <td>NaN</td>\n",
       "      <td>NaN</td>\n",
       "      <td>476</td>\n",
       "      <td>1795</td>\n",
       "      <td>NaN</td>\n",
       "    </tr>\n",
       "    <tr>\n",
       "      <th>top</th>\n",
       "      <td>NaN</td>\n",
       "      <td>NaN</td>\n",
       "      <td>NaN</td>\n",
       "      <td>SWEET BEAN(S205)</td>\n",
       "      <td>J Moreira</td>\n",
       "      <td>J Size</td>\n",
       "      <td>NaN</td>\n",
       "      <td>NaN</td>\n",
       "      <td>NaN</td>\n",
       "      <td>-</td>\n",
       "      <td>...</td>\n",
       "      <td>AUS</td>\n",
       "      <td>Bay</td>\n",
       "      <td>Gelding</td>\n",
       "      <td>The Hon Ronald Arculli GBM GBS JP &amp; Johanna K ...</td>\n",
       "      <td>PP</td>\n",
       "      <td>NaN</td>\n",
       "      <td>NaN</td>\n",
       "      <td>Fastnet Rock</td>\n",
       "      <td>Starship</td>\n",
       "      <td>NaN</td>\n",
       "    </tr>\n",
       "    <tr>\n",
       "      <th>freq</th>\n",
       "      <td>NaN</td>\n",
       "      <td>NaN</td>\n",
       "      <td>NaN</td>\n",
       "      <td>31</td>\n",
       "      <td>1263</td>\n",
       "      <td>1206</td>\n",
       "      <td>NaN</td>\n",
       "      <td>NaN</td>\n",
       "      <td>NaN</td>\n",
       "      <td>905</td>\n",
       "      <td>...</td>\n",
       "      <td>7585</td>\n",
       "      <td>12553</td>\n",
       "      <td>18021</td>\n",
       "      <td>75</td>\n",
       "      <td>9257</td>\n",
       "      <td>NaN</td>\n",
       "      <td>NaN</td>\n",
       "      <td>404</td>\n",
       "      <td>49</td>\n",
       "      <td>NaN</td>\n",
       "    </tr>\n",
       "    <tr>\n",
       "      <th>mean</th>\n",
       "      <td>5.976961</td>\n",
       "      <td>6.191673</td>\n",
       "      <td>6.865781</td>\n",
       "      <td>NaN</td>\n",
       "      <td>NaN</td>\n",
       "      <td>NaN</td>\n",
       "      <td>122.853952</td>\n",
       "      <td>1109.069327</td>\n",
       "      <td>6.228712</td>\n",
       "      <td>NaN</td>\n",
       "      <td>...</td>\n",
       "      <td>NaN</td>\n",
       "      <td>NaN</td>\n",
       "      <td>NaN</td>\n",
       "      <td>NaN</td>\n",
       "      <td>NaN</td>\n",
       "      <td>61.468285</td>\n",
       "      <td>62.370297</td>\n",
       "      <td>NaN</td>\n",
       "      <td>NaN</td>\n",
       "      <td>5.960083</td>\n",
       "    </tr>\n",
       "    <tr>\n",
       "      <th>std</th>\n",
       "      <td>3.806700</td>\n",
       "      <td>3.507274</td>\n",
       "      <td>3.737905</td>\n",
       "      <td>NaN</td>\n",
       "      <td>NaN</td>\n",
       "      <td>NaN</td>\n",
       "      <td>6.385524</td>\n",
       "      <td>61.416600</td>\n",
       "      <td>3.527772</td>\n",
       "      <td>NaN</td>\n",
       "      <td>...</td>\n",
       "      <td>NaN</td>\n",
       "      <td>NaN</td>\n",
       "      <td>NaN</td>\n",
       "      <td>NaN</td>\n",
       "      <td>NaN</td>\n",
       "      <td>23.807324</td>\n",
       "      <td>22.640663</td>\n",
       "      <td>NaN</td>\n",
       "      <td>NaN</td>\n",
       "      <td>1.191517</td>\n",
       "    </tr>\n",
       "    <tr>\n",
       "      <th>min</th>\n",
       "      <td>0.000000</td>\n",
       "      <td>1.000000</td>\n",
       "      <td>1.000000</td>\n",
       "      <td>NaN</td>\n",
       "      <td>NaN</td>\n",
       "      <td>NaN</td>\n",
       "      <td>103.000000</td>\n",
       "      <td>902.000000</td>\n",
       "      <td>1.000000</td>\n",
       "      <td>NaN</td>\n",
       "      <td>...</td>\n",
       "      <td>NaN</td>\n",
       "      <td>NaN</td>\n",
       "      <td>NaN</td>\n",
       "      <td>NaN</td>\n",
       "      <td>NaN</td>\n",
       "      <td>3.000000</td>\n",
       "      <td>18.000000</td>\n",
       "      <td>NaN</td>\n",
       "      <td>NaN</td>\n",
       "      <td>3.000000</td>\n",
       "    </tr>\n",
       "    <tr>\n",
       "      <th>25%</th>\n",
       "      <td>3.000000</td>\n",
       "      <td>3.000000</td>\n",
       "      <td>4.000000</td>\n",
       "      <td>NaN</td>\n",
       "      <td>NaN</td>\n",
       "      <td>NaN</td>\n",
       "      <td>118.000000</td>\n",
       "      <td>1066.000000</td>\n",
       "      <td>3.000000</td>\n",
       "      <td>NaN</td>\n",
       "      <td>...</td>\n",
       "      <td>NaN</td>\n",
       "      <td>NaN</td>\n",
       "      <td>NaN</td>\n",
       "      <td>NaN</td>\n",
       "      <td>NaN</td>\n",
       "      <td>44.000000</td>\n",
       "      <td>46.000000</td>\n",
       "      <td>NaN</td>\n",
       "      <td>NaN</td>\n",
       "      <td>5.000000</td>\n",
       "    </tr>\n",
       "    <tr>\n",
       "      <th>50%</th>\n",
       "      <td>6.000000</td>\n",
       "      <td>6.000000</td>\n",
       "      <td>7.000000</td>\n",
       "      <td>NaN</td>\n",
       "      <td>NaN</td>\n",
       "      <td>NaN</td>\n",
       "      <td>123.000000</td>\n",
       "      <td>1107.000000</td>\n",
       "      <td>6.000000</td>\n",
       "      <td>NaN</td>\n",
       "      <td>...</td>\n",
       "      <td>NaN</td>\n",
       "      <td>NaN</td>\n",
       "      <td>NaN</td>\n",
       "      <td>NaN</td>\n",
       "      <td>NaN</td>\n",
       "      <td>60.000000</td>\n",
       "      <td>61.000000</td>\n",
       "      <td>NaN</td>\n",
       "      <td>NaN</td>\n",
       "      <td>6.000000</td>\n",
       "    </tr>\n",
       "    <tr>\n",
       "      <th>75%</th>\n",
       "      <td>9.000000</td>\n",
       "      <td>9.000000</td>\n",
       "      <td>10.000000</td>\n",
       "      <td>NaN</td>\n",
       "      <td>NaN</td>\n",
       "      <td>NaN</td>\n",
       "      <td>128.000000</td>\n",
       "      <td>1151.000000</td>\n",
       "      <td>9.000000</td>\n",
       "      <td>NaN</td>\n",
       "      <td>...</td>\n",
       "      <td>NaN</td>\n",
       "      <td>NaN</td>\n",
       "      <td>NaN</td>\n",
       "      <td>NaN</td>\n",
       "      <td>NaN</td>\n",
       "      <td>76.000000</td>\n",
       "      <td>76.000000</td>\n",
       "      <td>NaN</td>\n",
       "      <td>NaN</td>\n",
       "      <td>7.000000</td>\n",
       "    </tr>\n",
       "    <tr>\n",
       "      <th>max</th>\n",
       "      <td>15.000000</td>\n",
       "      <td>14.000000</td>\n",
       "      <td>14.000000</td>\n",
       "      <td>NaN</td>\n",
       "      <td>NaN</td>\n",
       "      <td>NaN</td>\n",
       "      <td>133.000000</td>\n",
       "      <td>1365.000000</td>\n",
       "      <td>14.000000</td>\n",
       "      <td>NaN</td>\n",
       "      <td>...</td>\n",
       "      <td>NaN</td>\n",
       "      <td>NaN</td>\n",
       "      <td>NaN</td>\n",
       "      <td>NaN</td>\n",
       "      <td>NaN</td>\n",
       "      <td>130.000000</td>\n",
       "      <td>128.000000</td>\n",
       "      <td>NaN</td>\n",
       "      <td>NaN</td>\n",
       "      <td>10.000000</td>\n",
       "    </tr>\n",
       "  </tbody>\n",
       "</table>\n",
       "<p>11 rows × 37 columns</p>\n",
       "</div>"
      ],
      "text/plain": [
       "                 row           plc       horseno             horse     jockey  \\\n",
       "count   11285.000000  18422.000000  11146.000000             18744      18541   \n",
       "unique           NaN           NaN           NaN              1962         92   \n",
       "top              NaN           NaN           NaN  SWEET BEAN(S205)  J Moreira   \n",
       "freq             NaN           NaN           NaN                31       1263   \n",
       "mean        5.976961      6.191673      6.865781               NaN        NaN   \n",
       "std         3.806700      3.507274      3.737905               NaN        NaN   \n",
       "min         0.000000      1.000000      1.000000               NaN        NaN   \n",
       "25%         3.000000      3.000000      4.000000               NaN        NaN   \n",
       "50%         6.000000      6.000000      7.000000               NaN        NaN   \n",
       "75%         9.000000      9.000000     10.000000               NaN        NaN   \n",
       "max        15.000000     14.000000     14.000000               NaN        NaN   \n",
       "\n",
       "       trainer_x      actualwt      declarwt          draw    lbw  ...  \\\n",
       "count      18744  11284.000000  11251.000000  18508.000000  17698  ...   \n",
       "unique        69           NaN           NaN           NaN    321  ...   \n",
       "top       J Size           NaN           NaN           NaN      -  ...   \n",
       "freq        1206           NaN           NaN           NaN    905  ...   \n",
       "mean         NaN    122.853952   1109.069327      6.228712    NaN  ...   \n",
       "std          NaN      6.385524     61.416600      3.527772    NaN  ...   \n",
       "min          NaN    103.000000    902.000000      1.000000    NaN  ...   \n",
       "25%          NaN    118.000000   1066.000000      3.000000    NaN  ...   \n",
       "50%          NaN    123.000000   1107.000000      6.000000    NaN  ...   \n",
       "75%          NaN    128.000000   1151.000000      9.000000    NaN  ...   \n",
       "max          NaN    133.000000   1365.000000     14.000000    NaN  ...   \n",
       "\n",
       "       country colour      sex  \\\n",
       "count    18397  18397    18397   \n",
       "unique      13      7        7   \n",
       "top        AUS    Bay  Gelding   \n",
       "freq      7585  12553    18021   \n",
       "mean       NaN    NaN      NaN   \n",
       "std        NaN    NaN      NaN   \n",
       "min        NaN    NaN      NaN   \n",
       "25%        NaN    NaN      NaN   \n",
       "50%        NaN    NaN      NaN   \n",
       "75%        NaN    NaN      NaN   \n",
       "max        NaN    NaN      NaN   \n",
       "\n",
       "                                                    owner  import_type  \\\n",
       "count                                               18397        18392   \n",
       "unique                                               1447           21   \n",
       "top     The Hon Ronald Arculli GBM GBS JP & Johanna K ...           PP   \n",
       "freq                                                   75         9257   \n",
       "mean                                                  NaN          NaN   \n",
       "std                                                   NaN          NaN   \n",
       "min                                                   NaN          NaN   \n",
       "25%                                                   NaN          NaN   \n",
       "50%                                                   NaN          NaN   \n",
       "75%                                                   NaN          NaN   \n",
       "max                                                   NaN          NaN   \n",
       "\n",
       "        current_rating  start_rating          sire       dam          age  \n",
       "count      9144.000000   9144.000000         18397     18397  9144.000000  \n",
       "unique             NaN           NaN           476      1795          NaN  \n",
       "top                NaN           NaN  Fastnet Rock  Starship          NaN  \n",
       "freq               NaN           NaN           404        49          NaN  \n",
       "mean         61.468285     62.370297           NaN       NaN     5.960083  \n",
       "std          23.807324     22.640663           NaN       NaN     1.191517  \n",
       "min           3.000000     18.000000           NaN       NaN     3.000000  \n",
       "25%          44.000000     46.000000           NaN       NaN     5.000000  \n",
       "50%          60.000000     61.000000           NaN       NaN     6.000000  \n",
       "75%          76.000000     76.000000           NaN       NaN     7.000000  \n",
       "max         130.000000    128.000000           NaN       NaN    10.000000  \n",
       "\n",
       "[11 rows x 37 columns]"
      ]
     },
     "execution_count": 11,
     "metadata": {},
     "output_type": "execute_result"
    }
   ],
   "source": [
    "data_train.describe(include = 'all')"
   ]
  },
  {
   "cell_type": "code",
   "execution_count": 12,
   "metadata": {},
   "outputs": [
    {
     "data": {
      "text/plain": [
       "DataTransformerRegistry.enable('json')"
      ]
     },
     "execution_count": 12,
     "metadata": {},
     "output_type": "execute_result"
    }
   ],
   "source": [
    "alt.data_transformers.enable('json')"
   ]
  },
  {
   "cell_type": "code",
   "execution_count": 13,
   "metadata": {},
   "outputs": [],
   "source": [
    "data_train = data_train[~data_train['plc'].isna()]"
   ]
  },
  {
   "cell_type": "code",
   "execution_count": 14,
   "metadata": {},
   "outputs": [
    {
     "data": {
      "application/vnd.vegalite.v3+json": {
       "$schema": "https://vega.github.io/schema/vega-lite/v3.4.0.json",
       "config": {
        "mark": {
         "tooltip": null
        },
        "view": {
         "height": 300,
         "width": 400
        }
       },
       "data": {
        "format": {
         "type": "json"
        },
        "url": "altair-data-fd87c1d6928041dfdfb87252e488688f.json"
       },
       "encoding": {
        "x": {
         "field": "actualwt",
         "scale": {
          "zero": false
         },
         "type": "quantitative"
        },
        "y": {
         "field": "plc",
         "type": "nominal"
        }
       },
       "mark": "boxplot"
      },
      "image/png": "[encoded data removed]",
      "text/plain": [
       "<VegaLite 3 object>\n",
       "\n",
       "If you see this message, it means the renderer has not been properly enabled\n",
       "for the frontend that you are using. For more information, see\n",
       "https://altair-viz.github.io/user_guide/troubleshooting.html\n"
      ]
     },
     "execution_count": 14,
     "metadata": {},
     "output_type": "execute_result"
    }
   ],
   "source": [
    "alt.Chart(data_train).mark_boxplot().encode(\n",
    "    x=alt.X('actualwt:Q', scale=alt.Scale(zero=False)),\n",
    "    y=alt.Y('plc:N')\n",
    ")"
   ]
  },
  {
   "cell_type": "code",
   "execution_count": 15,
   "metadata": {},
   "outputs": [
    {
     "data": {
      "application/vnd.vegalite.v3+json": {
       "$schema": "https://vega.github.io/schema/vega-lite/v3.4.0.json",
       "config": {
        "mark": {
         "tooltip": null
        },
        "view": {
         "height": 300,
         "width": 400
        }
       },
       "data": {
        "format": {
         "type": "json"
        },
        "url": "altair-data-fd87c1d6928041dfdfb87252e488688f.json"
       },
       "encoding": {
        "x": {
         "field": "country",
         "type": "nominal"
        },
        "y": {
         "field": "plc",
         "type": "quantitative"
        }
       },
       "mark": "boxplot"
      },
      "image/png": "[encoded data removed]",
      "text/plain": [
       "<VegaLite 3 object>\n",
       "\n",
       "If you see this message, it means the renderer has not been properly enabled\n",
       "for the frontend that you are using. For more information, see\n",
       "https://altair-viz.github.io/user_guide/troubleshooting.html\n"
      ]
     },
     "execution_count": 15,
     "metadata": {},
     "output_type": "execute_result"
    }
   ],
   "source": [
    "alt.Chart(data_train).mark_boxplot().encode(\n",
    "    x=alt.X('country:N'),\n",
    "    y=alt.Y('plc:Q')\n",
    ")"
   ]
  },
  {
   "cell_type": "code",
   "execution_count": null,
   "metadata": {},
   "outputs": [],
   "source": []
  }
 ],
 "metadata": {
  "kernelspec": {
   "display_name": "Python 3",
   "language": "python",
   "name": "python3"
  },
  "language_info": {
   "codemirror_mode": {
    "name": "ipython",
    "version": 3
   },
   "file_extension": ".py",
   "mimetype": "text/x-python",
   "name": "python",
   "nbconvert_exporter": "python",
   "pygments_lexer": "ipython3",
   "version": "3.7.5"
  }
 },
 "nbformat": 4,
 "nbformat_minor": 4
}
