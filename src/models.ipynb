{
 "cells": [
  {
   "cell_type": "code",
   "execution_count": 138,
   "metadata": {},
   "outputs": [],
   "source": [
    "import pandas as pd\n",
    "pd.set_option('display.max_columns', 40)\n",
    "import numpy as np\n",
    "\n",
    "from sklearn.base import BaseEstimator, TransformerMixin\n",
    "from sklearn.pipeline import Pipeline, FeatureUnion\n",
    "from sklearn.preprocessing import OneHotEncoder, PolynomialFeatures\n",
    "from sklearn.impute import SimpleImputer\n",
    "\n",
    "from sklearn.model_selection import GridSearchCV, RandomizedSearchCV, train_test_split\n",
    "from sklearn.feature_selection import RFE\n",
    "from sklearn.linear_model import LogisticRegression, LinearRegression, SGDClassifier, SGDRegressor\n",
    "\n",
    "import matplotlib.pyplot as plt"
   ]
  },
  {
   "cell_type": "markdown",
   "metadata": {},
   "source": [
    "# Hong Kong horse race prediction models"
   ]
  },
  {
   "cell_type": "markdown",
   "metadata": {},
   "source": [
    "This notebook runs through various models which will predict the outcome of horse races in Hong Kong. Different types of models will be trained, along with different hyperparameters, in order to produce the best possible model. The best model and its hyperparameters will then be saved as a separate python script, which will allow us to easily pass new data through and make predictions."
   ]
  },
  {
   "cell_type": "markdown",
   "metadata": {},
   "source": [
    "## Notebook Overview\n",
    "\n",
    "<font size = 4>\n",
    "\n",
    "1. Loading and splitting dataset \n",
    "    \n",
    "2. Data preprocessing for ML models\n",
    "    - 2.1 Creating new variables\n",
    "    - 2.2 Separate test and training set\n",
    "    - 2.3 Visualizing relationships\n",
    "\n",
    "    \n",
    "3. Fitting models\n",
    "    - 3.1 Linear regression\n",
    "    \n",
    "4. Results"
   ]
  },
  {
   "cell_type": "markdown",
   "metadata": {},
   "source": [
    "## 1. Loading and splitting dataset"
   ]
  },
  {
   "cell_type": "markdown",
   "metadata": {},
   "source": [
    "The data set being used here is the _Hong Kong horse racing_ dataset. Please see the EDA.ipynb file (in the src directory) and README for a more in depth description of this dataset."
   ]
  },
  {
   "cell_type": "code",
   "execution_count": 139,
   "metadata": {},
   "outputs": [
    {
     "data": {
      "text/html": [
       "<div>\n",
       "<style scoped>\n",
       "    .dataframe tbody tr th:only-of-type {\n",
       "        vertical-align: middle;\n",
       "    }\n",
       "\n",
       "    .dataframe tbody tr th {\n",
       "        vertical-align: top;\n",
       "    }\n",
       "\n",
       "    .dataframe thead th {\n",
       "        text-align: right;\n",
       "    }\n",
       "</style>\n",
       "<table border=\"1\" class=\"dataframe\">\n",
       "  <thead>\n",
       "    <tr style=\"text-align: right;\">\n",
       "      <th></th>\n",
       "      <th>Unnamed: 0</th>\n",
       "      <th>row</th>\n",
       "      <th>plc</th>\n",
       "      <th>horseno</th>\n",
       "      <th>horse</th>\n",
       "      <th>jockey</th>\n",
       "      <th>trainer_x</th>\n",
       "      <th>actualwt</th>\n",
       "      <th>declarwt</th>\n",
       "      <th>draw</th>\n",
       "      <th>lbw</th>\n",
       "      <th>runningpos</th>\n",
       "      <th>finishtime</th>\n",
       "      <th>winodds</th>\n",
       "      <th>date</th>\n",
       "      <th>raceno</th>\n",
       "      <th>class</th>\n",
       "      <th>distance</th>\n",
       "      <th>going</th>\n",
       "      <th>handicap</th>\n",
       "      <th>course</th>\n",
       "      <th>stake</th>\n",
       "      <th>venue</th>\n",
       "      <th>dataset</th>\n",
       "      <th>gear</th>\n",
       "      <th>comment</th>\n",
       "      <th>result</th>\n",
       "      <th>country</th>\n",
       "      <th>colour</th>\n",
       "      <th>sex</th>\n",
       "      <th>owner</th>\n",
       "      <th>import_type</th>\n",
       "      <th>current_rating</th>\n",
       "      <th>start_rating</th>\n",
       "      <th>sire</th>\n",
       "      <th>dam</th>\n",
       "      <th>age</th>\n",
       "    </tr>\n",
       "  </thead>\n",
       "  <tbody>\n",
       "    <tr>\n",
       "      <th>0</th>\n",
       "      <td>21818</td>\n",
       "      <td>NaN</td>\n",
       "      <td>3</td>\n",
       "      <td>NaN</td>\n",
       "      <td>SPICY KAKA(V323)</td>\n",
       "      <td>K Teetan</td>\n",
       "      <td>J Moore</td>\n",
       "      <td>NaN</td>\n",
       "      <td>NaN</td>\n",
       "      <td>2.0</td>\n",
       "      <td>2-1/2L</td>\n",
       "      <td>2 2 3</td>\n",
       "      <td>1.11.40</td>\n",
       "      <td>NaN</td>\n",
       "      <td>2016-07-05</td>\n",
       "      <td>1</td>\n",
       "      <td>NaN</td>\n",
       "      <td>1200</td>\n",
       "      <td>WET</td>\n",
       "      <td>NaN</td>\n",
       "      <td>ALL WEATHER TRACK</td>\n",
       "      <td>NaN</td>\n",
       "      <td>SHA TIN</td>\n",
       "      <td>barrier</td>\n",
       "      <td>B</td>\n",
       "      <td>Slow to begin; raced greenly.</td>\n",
       "      <td>Passed</td>\n",
       "      <td>GB</td>\n",
       "      <td>Bay</td>\n",
       "      <td>Gelding</td>\n",
       "      <td>Kathleen Shi Pui Ka</td>\n",
       "      <td>ISG</td>\n",
       "      <td>57.0</td>\n",
       "      <td>51.0</td>\n",
       "      <td>Excellent Art</td>\n",
       "      <td>Cheap Thrills</td>\n",
       "      <td>5.0</td>\n",
       "    </tr>\n",
       "    <tr>\n",
       "      <th>1</th>\n",
       "      <td>7569</td>\n",
       "      <td>6.0</td>\n",
       "      <td>7</td>\n",
       "      <td>9.0</td>\n",
       "      <td>DIAMOND MASTER(S397)</td>\n",
       "      <td>K C Leung</td>\n",
       "      <td>P F Yiu</td>\n",
       "      <td>116.0</td>\n",
       "      <td>1156.0</td>\n",
       "      <td>8.0</td>\n",
       "      <td>4-1/2</td>\n",
       "      <td>3 2 7</td>\n",
       "      <td>1.09.61</td>\n",
       "      <td>39.0</td>\n",
       "      <td>2016-04-16</td>\n",
       "      <td>8</td>\n",
       "      <td>3.0</td>\n",
       "      <td>1200</td>\n",
       "      <td>GOOD TO FIRM</td>\n",
       "      <td>THE SPORTS WITHOUT BORDERS HANDICAP</td>\n",
       "      <td>TURF - C+3 COURSE</td>\n",
       "      <td>1165000.0</td>\n",
       "      <td>Sha Tin</td>\n",
       "      <td>results</td>\n",
       "      <td>B/XB</td>\n",
       "      <td>In pursuit of leader, held 2nd till 250M, no e...</td>\n",
       "      <td>NaN</td>\n",
       "      <td>AUS</td>\n",
       "      <td>Bay</td>\n",
       "      <td>Gelding</td>\n",
       "      <td>HK Diamond Bourse Racing Syndicate</td>\n",
       "      <td>PPG</td>\n",
       "      <td>68.0</td>\n",
       "      <td>69.0</td>\n",
       "      <td>Not A Single Doubt</td>\n",
       "      <td>Sandy Desert</td>\n",
       "      <td>6.0</td>\n",
       "    </tr>\n",
       "    <tr>\n",
       "      <th>2</th>\n",
       "      <td>12339</td>\n",
       "      <td>11.0</td>\n",
       "      <td>12</td>\n",
       "      <td>5.0</td>\n",
       "      <td>TARZAN I AM(P299)</td>\n",
       "      <td>C Y Ho</td>\n",
       "      <td>D Cruz</td>\n",
       "      <td>125.0</td>\n",
       "      <td>1224.0</td>\n",
       "      <td>14.0</td>\n",
       "      <td>12</td>\n",
       "      <td>6 9 12</td>\n",
       "      <td>1.11.19</td>\n",
       "      <td>21.0</td>\n",
       "      <td>2015-06-14</td>\n",
       "      <td>3</td>\n",
       "      <td>4.0</td>\n",
       "      <td>1200</td>\n",
       "      <td>GOOD TO FIRM</td>\n",
       "      <td>CARL F. BUCHERER HANDICAP</td>\n",
       "      <td>TURF - B+2 COURSE</td>\n",
       "      <td>760000.0</td>\n",
       "      <td>Sha Tin</td>\n",
       "      <td>results</td>\n",
       "      <td>TT</td>\n",
       "      <td>Camped handy, however trapped 4 wide without c...</td>\n",
       "      <td>NaN</td>\n",
       "      <td>NZ</td>\n",
       "      <td>Bay</td>\n",
       "      <td>Gelding</td>\n",
       "      <td>Fok Yuk Tong</td>\n",
       "      <td>PP</td>\n",
       "      <td>NaN</td>\n",
       "      <td>NaN</td>\n",
       "      <td>Darci Brahma</td>\n",
       "      <td>Climb The Vine</td>\n",
       "      <td>NaN</td>\n",
       "    </tr>\n",
       "    <tr>\n",
       "      <th>3</th>\n",
       "      <td>12719</td>\n",
       "      <td>11.0</td>\n",
       "      <td>12</td>\n",
       "      <td>4.0</td>\n",
       "      <td>AIMING HIGH(V206)</td>\n",
       "      <td>M L Yeung</td>\n",
       "      <td>T P Yung</td>\n",
       "      <td>124.0</td>\n",
       "      <td>1149.0</td>\n",
       "      <td>8.0</td>\n",
       "      <td>19</td>\n",
       "      <td>11 11 12</td>\n",
       "      <td>1.13.11</td>\n",
       "      <td>32.0</td>\n",
       "      <td>2016-04-13</td>\n",
       "      <td>6</td>\n",
       "      <td>3.0</td>\n",
       "      <td>1200</td>\n",
       "      <td>GOOD TO YIELDING</td>\n",
       "      <td>MATHESON HANDICAP</td>\n",
       "      <td>TURF - A COURSE</td>\n",
       "      <td>1165000.0</td>\n",
       "      <td>Happy Valley</td>\n",
       "      <td>results</td>\n",
       "      <td>H</td>\n",
       "      <td>At rear throughout, never in contention.      ...</td>\n",
       "      <td>NaN</td>\n",
       "      <td>NZ</td>\n",
       "      <td>Bay</td>\n",
       "      <td>Gelding</td>\n",
       "      <td>Terence Leung Chi Kin, Patrick Wong Man Kam, J...</td>\n",
       "      <td>PP</td>\n",
       "      <td>NaN</td>\n",
       "      <td>NaN</td>\n",
       "      <td>Captain Rio</td>\n",
       "      <td>Kiwi Supreme</td>\n",
       "      <td>NaN</td>\n",
       "    </tr>\n",
       "    <tr>\n",
       "      <th>4</th>\n",
       "      <td>8117</td>\n",
       "      <td>7.0</td>\n",
       "      <td>8</td>\n",
       "      <td>6.0</td>\n",
       "      <td>PLANET STAR(A049)</td>\n",
       "      <td>S de Sousa</td>\n",
       "      <td>P O'Sullivan</td>\n",
       "      <td>125.0</td>\n",
       "      <td>1182.0</td>\n",
       "      <td>6.0</td>\n",
       "      <td>5-1/2</td>\n",
       "      <td>7 8 8</td>\n",
       "      <td>1.10.70</td>\n",
       "      <td>7.7</td>\n",
       "      <td>2017-01-14</td>\n",
       "      <td>3</td>\n",
       "      <td>4.0</td>\n",
       "      <td>1200</td>\n",
       "      <td>GOOD</td>\n",
       "      <td>HO SHEUNG HEUNG HANDICAP</td>\n",
       "      <td>TURF - C+3 COURSE</td>\n",
       "      <td>840000.0</td>\n",
       "      <td>Sha Tin</td>\n",
       "      <td>results</td>\n",
       "      <td>--</td>\n",
       "      <td>Raced midfield, 6Ls behind the leader 3 wide w...</td>\n",
       "      <td>NaN</td>\n",
       "      <td>AUS</td>\n",
       "      <td>Brown</td>\n",
       "      <td>Gelding</td>\n",
       "      <td>Planet Racing Syndicate</td>\n",
       "      <td>PPG</td>\n",
       "      <td>50.0</td>\n",
       "      <td>52.0</td>\n",
       "      <td>Denman</td>\n",
       "      <td>Tell Someone</td>\n",
       "      <td>4.0</td>\n",
       "    </tr>\n",
       "  </tbody>\n",
       "</table>\n",
       "</div>"
      ],
      "text/plain": [
       "   Unnamed: 0   row plc  horseno                 horse      jockey  \\\n",
       "0       21818   NaN   3      NaN      SPICY KAKA(V323)    K Teetan   \n",
       "1        7569   6.0   7      9.0  DIAMOND MASTER(S397)   K C Leung   \n",
       "2       12339  11.0  12      5.0     TARZAN I AM(P299)      C Y Ho   \n",
       "3       12719  11.0  12      4.0     AIMING HIGH(V206)   M L Yeung   \n",
       "4        8117   7.0   8      6.0     PLANET STAR(A049)  S de Sousa   \n",
       "\n",
       "      trainer_x  actualwt  declarwt  draw     lbw runningpos finishtime  \\\n",
       "0       J Moore       NaN       NaN   2.0  2-1/2L      2 2 3    1.11.40   \n",
       "1       P F Yiu     116.0    1156.0   8.0   4-1/2      3 2 7    1.09.61   \n",
       "2        D Cruz     125.0    1224.0  14.0      12     6 9 12    1.11.19   \n",
       "3      T P Yung     124.0    1149.0   8.0      19   11 11 12    1.13.11   \n",
       "4  P O'Sullivan     125.0    1182.0   6.0   5-1/2      7 8 8    1.10.70   \n",
       "\n",
       "   winodds        date  raceno  class  distance             going  \\\n",
       "0      NaN  2016-07-05       1    NaN      1200               WET   \n",
       "1     39.0  2016-04-16       8    3.0      1200      GOOD TO FIRM   \n",
       "2     21.0  2015-06-14       3    4.0      1200      GOOD TO FIRM   \n",
       "3     32.0  2016-04-13       6    3.0      1200  GOOD TO YIELDING   \n",
       "4      7.7  2017-01-14       3    4.0      1200              GOOD   \n",
       "\n",
       "                              handicap             course      stake  \\\n",
       "0                                  NaN  ALL WEATHER TRACK        NaN   \n",
       "1  THE SPORTS WITHOUT BORDERS HANDICAP  TURF - C+3 COURSE  1165000.0   \n",
       "2            CARL F. BUCHERER HANDICAP  TURF - B+2 COURSE   760000.0   \n",
       "3                    MATHESON HANDICAP    TURF - A COURSE  1165000.0   \n",
       "4             HO SHEUNG HEUNG HANDICAP  TURF - C+3 COURSE   840000.0   \n",
       "\n",
       "          venue  dataset  gear  \\\n",
       "0       SHA TIN  barrier     B   \n",
       "1       Sha Tin  results  B/XB   \n",
       "2       Sha Tin  results   TT    \n",
       "3  Happy Valley  results     H   \n",
       "4       Sha Tin  results    --   \n",
       "\n",
       "                                             comment  result country colour  \\\n",
       "0                      Slow to begin; raced greenly.  Passed      GB    Bay   \n",
       "1  In pursuit of leader, held 2nd till 250M, no e...     NaN     AUS    Bay   \n",
       "2  Camped handy, however trapped 4 wide without c...     NaN      NZ    Bay   \n",
       "3  At rear throughout, never in contention.      ...     NaN      NZ    Bay   \n",
       "4  Raced midfield, 6Ls behind the leader 3 wide w...     NaN     AUS  Brown   \n",
       "\n",
       "       sex                                              owner import_type  \\\n",
       "0  Gelding                                Kathleen Shi Pui Ka         ISG   \n",
       "1  Gelding                 HK Diamond Bourse Racing Syndicate         PPG   \n",
       "2  Gelding                                       Fok Yuk Tong          PP   \n",
       "3  Gelding  Terence Leung Chi Kin, Patrick Wong Man Kam, J...          PP   \n",
       "4  Gelding                            Planet Racing Syndicate         PPG   \n",
       "\n",
       "   current_rating  start_rating                sire             dam  age  \n",
       "0            57.0          51.0       Excellent Art   Cheap Thrills  5.0  \n",
       "1            68.0          69.0  Not A Single Doubt    Sandy Desert  6.0  \n",
       "2             NaN           NaN        Darci Brahma  Climb The Vine  NaN  \n",
       "3             NaN           NaN         Captain Rio    Kiwi Supreme  NaN  \n",
       "4            50.0          52.0              Denman    Tell Someone  4.0  "
      ]
     },
     "execution_count": 139,
     "metadata": {},
     "output_type": "execute_result"
    }
   ],
   "source": [
    "training_data = pd.read_csv(\"../data/data_train.csv\")\n",
    "training_data.head()"
   ]
  },
  {
   "cell_type": "markdown",
   "metadata": {},
   "source": [
    "Before we split, we want to drop all rows which don't have a finishtime, since we need targets to train our models. We will use the `time_parser` function below to convert time string to seconds."
   ]
  },
  {
   "cell_type": "code",
   "execution_count": 140,
   "metadata": {},
   "outputs": [],
   "source": [
    "def time_parser(input_time):\n",
    "    \"\"\"\n",
    "    Function which converts a time string of form mm.ss.SS to seconds\n",
    "    \n",
    "    Arguments:\n",
    "    input_time (str) - input time as string of form \"d.dd.dd\" where d is a digit\n",
    "\n",
    "    Returns:\n",
    "    float representing input time in seconds\n",
    "    \"\"\"\n",
    "    \n",
    "    parsed_time = input_time.split(\".\")\n",
    "    mins = int(parsed_time[0])\n",
    "    secs = int(parsed_time[1])\n",
    "    ss = int(parsed_time[2])\n",
    "    \n",
    "    time_in_sec = mins*60.0 + secs + ss/100\n",
    "    return time_in_sec"
   ]
  },
  {
   "cell_type": "code",
   "execution_count": 141,
   "metadata": {},
   "outputs": [
    {
     "name": "stderr",
     "output_type": "stream",
     "text": [
      "/Users/robertblumberg/anaconda3/lib/python3.7/site-packages/ipykernel_launcher.py:5: SettingWithCopyWarning: \n",
      "A value is trying to be set on a copy of a slice from a DataFrame\n",
      "\n",
      "See the caveats in the documentation: http://pandas.pydata.org/pandas-docs/stable/user_guide/indexing.html#returning-a-view-versus-a-copy\n",
      "  \"\"\"\n"
     ]
    }
   ],
   "source": [
    "targets = training_data[\"finishtime\"]\n",
    "#fill nans with \"0.00.00\"\n",
    "targets.fillna(\"0.00.00\", inplace=True)       \n",
    "#replace anything not of format d.dd.dd to \"0.00.00\"\n",
    "targets[~targets.str.contains(\"\\d\\.\\d{2}\\.\\d{2}\")] = '0.00.00'\n",
    "#apply time_parser on all values\n",
    "targets = np.array(list(map(lambda x: time_parser(x), targets)))\n",
    "#replace target column with converted values\n",
    "training_data[\"finishtime\"] = targets\n",
    "#drop all rows where finishtime is 0.0\n",
    "training_data = training_data[training_data[\"finishtime\"] != 0.0]"
   ]
  },
  {
   "cell_type": "code",
   "execution_count": 142,
   "metadata": {},
   "outputs": [],
   "source": [
    "X_train, X_test, y_train, y_test = train_test_split(training_data.drop(\"finishtime\", axis=1), training_data[\"finishtime\"], test_size=0.2)"
   ]
  },
  {
   "cell_type": "markdown",
   "metadata": {},
   "source": [
    "## 2. Data preprocessing"
   ]
  },
  {
   "cell_type": "markdown",
   "metadata": {},
   "source": [
    "Here, we make pipeline to process the numeric and categorical features.\n",
    "\n",
    "The numeric features will be processed by replacing nan's with the mean value of that feature. this will be done using `SimpleImputer`. The features will also be transformed to a 5^th degree polynomial, so that when we eventually fit the model, we can implement a feature selection algorithm which will choose the best features, both original and transformed.\n",
    "\n",
    "The categorical features will be processed by replacing nan's with \"not_specified\". They will also be one-hot encoded.\n",
    "\n",
    "At the end, we combine the two preprocessing pipelines."
   ]
  },
  {
   "cell_type": "code",
   "execution_count": 158,
   "metadata": {},
   "outputs": [
    {
     "data": {
      "text/plain": [
       "(14588, 268)"
      ]
     },
     "execution_count": 158,
     "metadata": {},
     "output_type": "execute_result"
    }
   ],
   "source": [
    "from sklearn.pipeline import Pipeline, FeatureUnion\n",
    "from sklearn.compose import ColumnTransformer\n",
    "\n",
    "#define preprocessor for numeric features\n",
    "numeric_transformer = Pipeline(steps=[('imputer', SimpleImputer(strategy='mean')),\n",
    "                                      ('poly', PolynomialFeatures(degree=5))\n",
    "                                     ])\n",
    "\n",
    "#define preprocessor for categorical features\n",
    "categorical_transformer = Pipeline(steps=[('imputer', SimpleImputer(strategy='constant', fill_value=\"not_specified\")),\n",
    "                                          ('one_hot_encoder',  OneHotEncoder())\n",
    "                                         ])\n",
    "\n",
    "#combine numeric and categorical pipelines\n",
    "categorical_features = [\"country\", \"dataset\"]\n",
    "numeric_features = [\"declarwt\", \"age\", \"winodds\", \"stake\", \"distance\"]\n",
    "\n",
    "preprocessing = ColumnTransformer(\n",
    "                                 transformers=[\n",
    "                                    ('num', numeric_transformer, numeric_features),\n",
    "                                    ('cat', categorical_transformer, categorical_features)\n",
    "                                ])\n",
    "\n",
    "#combine preprocessing and model fitting steps into one pipeline \n",
    "full_pipeline = Pipeline([\n",
    "    ('data_preprocessing', preprocessing),\n",
    "])\n",
    "\n",
    "X_train_preprocessed = full_pipeline.fit_transform(X_train)\n",
    "X_test_preprocessed = full_pipeline.transform(X_test)\n",
    "X_train_preprocessed.shape"
   ]
  },
  {
   "cell_type": "markdown",
   "metadata": {},
   "source": [
    "## 3. Fitting models\n",
    "\n",
    "### 3.1 Linear regression\n",
    "\n",
    "#### 3.1.1 Feature selection\n",
    "\n",
    "First, we will optimize the number of features to select using grid search."
   ]
  },
  {
   "cell_type": "code",
   "execution_count": 167,
   "metadata": {},
   "outputs": [
    {
     "data": {
      "text/plain": [
       "GridSearchCV(cv=5, error_score=nan,\n",
       "             estimator=RFE(estimator=LinearRegression(copy_X=True,\n",
       "                                                      fit_intercept=True,\n",
       "                                                      n_jobs=None,\n",
       "                                                      normalize=False),\n",
       "                           n_features_to_select=None, step=1, verbose=0),\n",
       "             iid='deprecated', n_jobs=None,\n",
       "             param_grid=[{'n_features_to_select': [10, 12, 15, 18, 20, 22, 25,\n",
       "                                                   28, 30]}],\n",
       "             pre_dispatch='2*n_jobs', refit=True, return_train_score=False,\n",
       "             scoring='r2', verbose=0)"
      ]
     },
     "execution_count": 167,
     "metadata": {},
     "output_type": "execute_result"
    }
   ],
   "source": [
    "param_grid = [{\n",
    "    \"n_features_to_select\" : [10, 12, 15, 18, 20, 22, 25, 28, 30]\n",
    "}]\n",
    "gridsearch = GridSearchCV(RFE(LinearRegression()), param_grid=param_grid, cv=5, scoring=\"r2\")\n",
    "gridsearch.fit(X_train_preprocessed, y_train)"
   ]
  },
  {
   "cell_type": "code",
   "execution_count": 169,
   "metadata": {},
   "outputs": [
    {
     "data": {
      "text/html": [
       "<div>\n",
       "<style scoped>\n",
       "    .dataframe tbody tr th:only-of-type {\n",
       "        vertical-align: middle;\n",
       "    }\n",
       "\n",
       "    .dataframe tbody tr th {\n",
       "        vertical-align: top;\n",
       "    }\n",
       "\n",
       "    .dataframe thead th {\n",
       "        text-align: right;\n",
       "    }\n",
       "</style>\n",
       "<table border=\"1\" class=\"dataframe\">\n",
       "  <thead>\n",
       "    <tr style=\"text-align: right;\">\n",
       "      <th></th>\n",
       "      <th>n_features_to_select</th>\n",
       "      <th>mean_val_score (r2)</th>\n",
       "      <th>fit time per fold (s)</th>\n",
       "    </tr>\n",
       "  </thead>\n",
       "  <tbody>\n",
       "    <tr>\n",
       "      <th>0</th>\n",
       "      <td>10</td>\n",
       "      <td>0.588456</td>\n",
       "      <td>9.112577</td>\n",
       "    </tr>\n",
       "    <tr>\n",
       "      <th>1</th>\n",
       "      <td>12</td>\n",
       "      <td>0.589319</td>\n",
       "      <td>9.483354</td>\n",
       "    </tr>\n",
       "    <tr>\n",
       "      <th>2</th>\n",
       "      <td>15</td>\n",
       "      <td>0.730962</td>\n",
       "      <td>9.514302</td>\n",
       "    </tr>\n",
       "    <tr>\n",
       "      <th>3</th>\n",
       "      <td>18</td>\n",
       "      <td>0.782879</td>\n",
       "      <td>9.457158</td>\n",
       "    </tr>\n",
       "    <tr>\n",
       "      <th>4</th>\n",
       "      <td>20</td>\n",
       "      <td>0.834488</td>\n",
       "      <td>9.201390</td>\n",
       "    </tr>\n",
       "    <tr>\n",
       "      <th>5</th>\n",
       "      <td>22</td>\n",
       "      <td>0.837031</td>\n",
       "      <td>9.450311</td>\n",
       "    </tr>\n",
       "    <tr>\n",
       "      <th>6</th>\n",
       "      <td>25</td>\n",
       "      <td>0.880631</td>\n",
       "      <td>9.190682</td>\n",
       "    </tr>\n",
       "    <tr>\n",
       "      <th>7</th>\n",
       "      <td>28</td>\n",
       "      <td>0.887192</td>\n",
       "      <td>9.909476</td>\n",
       "    </tr>\n",
       "    <tr>\n",
       "      <th>8</th>\n",
       "      <td>30</td>\n",
       "      <td>0.887265</td>\n",
       "      <td>10.034000</td>\n",
       "    </tr>\n",
       "  </tbody>\n",
       "</table>\n",
       "</div>"
      ],
      "text/plain": [
       "   n_features_to_select  mean_val_score (r2)  fit time per fold (s)\n",
       "0                    10             0.588456               9.112577\n",
       "1                    12             0.589319               9.483354\n",
       "2                    15             0.730962               9.514302\n",
       "3                    18             0.782879               9.457158\n",
       "4                    20             0.834488               9.201390\n",
       "5                    22             0.837031               9.450311\n",
       "6                    25             0.880631               9.190682\n",
       "7                    28             0.887192               9.909476\n",
       "8                    30             0.887265              10.034000"
      ]
     },
     "execution_count": 169,
     "metadata": {},
     "output_type": "execute_result"
    }
   ],
   "source": [
    "pd.DataFrame({\"n_features_to_select\" : param_grid[0][\"n_features_to_select\"], \n",
    "              \"mean_val_score (r2)\" : gridsearch.cv_results_[\"mean_test_score\"],\n",
    "              \"fit time per fold (s)\" : gridsearch.cv_results_[\"mean_fit_time\"]})"
   ]
  },
  {
   "cell_type": "markdown",
   "metadata": {},
   "source": [
    "So let's take `n_features_to_select` $= 25$, since the mean_val_score levels off after this."
   ]
  },
  {
   "cell_type": "code",
   "execution_count": 170,
   "metadata": {},
   "outputs": [
    {
     "data": {
      "text/plain": [
       "RFE(estimator=LinearRegression(copy_X=True, fit_intercept=True, n_jobs=None,\n",
       "                               normalize=False),\n",
       "    n_features_to_select=25, step=1, verbose=0)"
      ]
     },
     "execution_count": 170,
     "metadata": {},
     "output_type": "execute_result"
    }
   ],
   "source": [
    "rfe = RFE(LinearRegression(), n_features_to_select=25)\n",
    "rfe.fit(X_train_preprocessed, y_train)"
   ]
  },
  {
   "cell_type": "markdown",
   "metadata": {},
   "source": [
    "#### 3.1.2 Optimized linear model\n",
    "\n",
    "Now we'll train a linear model with the subset of the training set we chose above."
   ]
  },
  {
   "cell_type": "code",
   "execution_count": 171,
   "metadata": {},
   "outputs": [
    {
     "data": {
      "text/plain": [
       "LinearRegression(copy_X=True, fit_intercept=True, n_jobs=None, normalize=False)"
      ]
     },
     "execution_count": 171,
     "metadata": {},
     "output_type": "execute_result"
    }
   ],
   "source": [
    "lr = LinearRegression()\n",
    "lr.fit(rfe.transform(X_test_preprocessed), y_test)"
   ]
  },
  {
   "cell_type": "markdown",
   "metadata": {},
   "source": [
    "## 4. Results\n",
    "\n",
    "We run the model on our test set."
   ]
  },
  {
   "cell_type": "code",
   "execution_count": 172,
   "metadata": {},
   "outputs": [
    {
     "data": {
      "text/html": [
       "<div>\n",
       "<style scoped>\n",
       "    .dataframe tbody tr th:only-of-type {\n",
       "        vertical-align: middle;\n",
       "    }\n",
       "\n",
       "    .dataframe tbody tr th {\n",
       "        vertical-align: top;\n",
       "    }\n",
       "\n",
       "    .dataframe thead th {\n",
       "        text-align: right;\n",
       "    }\n",
       "</style>\n",
       "<table border=\"1\" class=\"dataframe\">\n",
       "  <thead>\n",
       "    <tr style=\"text-align: right;\">\n",
       "      <th></th>\n",
       "      <th>Actual finish time</th>\n",
       "      <th>Predicted finish time</th>\n",
       "    </tr>\n",
       "  </thead>\n",
       "  <tbody>\n",
       "    <tr>\n",
       "      <th>8361</th>\n",
       "      <td>81.50</td>\n",
       "      <td>82.132681</td>\n",
       "    </tr>\n",
       "    <tr>\n",
       "      <th>11437</th>\n",
       "      <td>70.83</td>\n",
       "      <td>70.591339</td>\n",
       "    </tr>\n",
       "    <tr>\n",
       "      <th>5225</th>\n",
       "      <td>70.66</td>\n",
       "      <td>70.546700</td>\n",
       "    </tr>\n",
       "    <tr>\n",
       "      <th>13176</th>\n",
       "      <td>57.73</td>\n",
       "      <td>61.664135</td>\n",
       "    </tr>\n",
       "    <tr>\n",
       "      <th>517</th>\n",
       "      <td>70.47</td>\n",
       "      <td>70.673778</td>\n",
       "    </tr>\n",
       "    <tr>\n",
       "      <th>...</th>\n",
       "      <td>...</td>\n",
       "      <td>...</td>\n",
       "    </tr>\n",
       "    <tr>\n",
       "      <th>13822</th>\n",
       "      <td>98.74</td>\n",
       "      <td>100.337189</td>\n",
       "    </tr>\n",
       "    <tr>\n",
       "      <th>7496</th>\n",
       "      <td>48.29</td>\n",
       "      <td>56.279725</td>\n",
       "    </tr>\n",
       "    <tr>\n",
       "      <th>8625</th>\n",
       "      <td>57.83</td>\n",
       "      <td>61.797260</td>\n",
       "    </tr>\n",
       "    <tr>\n",
       "      <th>16511</th>\n",
       "      <td>94.89</td>\n",
       "      <td>96.293920</td>\n",
       "    </tr>\n",
       "    <tr>\n",
       "      <th>5432</th>\n",
       "      <td>70.55</td>\n",
       "      <td>70.355719</td>\n",
       "    </tr>\n",
       "  </tbody>\n",
       "</table>\n",
       "<p>3648 rows × 2 columns</p>\n",
       "</div>"
      ],
      "text/plain": [
       "       Actual finish time  Predicted finish time\n",
       "8361                81.50              82.132681\n",
       "11437               70.83              70.591339\n",
       "5225                70.66              70.546700\n",
       "13176               57.73              61.664135\n",
       "517                 70.47              70.673778\n",
       "...                   ...                    ...\n",
       "13822               98.74             100.337189\n",
       "7496                48.29              56.279725\n",
       "8625                57.83              61.797260\n",
       "16511               94.89              96.293920\n",
       "5432                70.55              70.355719\n",
       "\n",
       "[3648 rows x 2 columns]"
      ]
     },
     "execution_count": 172,
     "metadata": {},
     "output_type": "execute_result"
    }
   ],
   "source": [
    "test_results = pd.DataFrame({\"Actual finish time\" : y_test,\n",
    "                             \"Predicted finish time\" : lr.predict(rfe.transform(X_test_preprocessed))})\n",
    "test_results"
   ]
  },
  {
   "cell_type": "code",
   "execution_count": 173,
   "metadata": {},
   "outputs": [
    {
     "data": {
      "text/plain": [
       "Text(0, 0.5, 'Actual finish time')"
      ]
     },
     "execution_count": 173,
     "metadata": {},
     "output_type": "execute_result"
    },
    {
     "data": {
      "image/png": "[encoded data removed]",
      "text/plain": [
       "<Figure size 576x576 with 1 Axes>"
      ]
     },
     "metadata": {
      "needs_background": "light"
     },
     "output_type": "display_data"
    }
   ],
   "source": [
    "fig, ax = plt.subplots(1, 1, figsize = (8 ,8))\n",
    "ax.scatter(test_results[\"Predicted finish time\"], test_results[\"Actual finish time\"])\n",
    "ax.plot([min(test_results[\"Actual finish time\"]), max(test_results[\"Actual finish time\"])],\n",
    "        [min(test_results[\"Actual finish time\"]), max(test_results[\"Actual finish time\"])], \n",
    "        linestyle = \"--\", color = \"red\")\n",
    "ax.set_xlabel(\"Predicted finish time\", size=14)\n",
    "ax.set_ylabel(\"Actual finish time\", size=14)"
   ]
  },
  {
   "cell_type": "code",
   "execution_count": null,
   "metadata": {},
   "outputs": [],
   "source": []
  },
  {
   "cell_type": "code",
   "execution_count": null,
   "metadata": {},
   "outputs": [],
   "source": []
  }
 ],
 "metadata": {
  "kernelspec": {
   "display_name": "Python 3",
   "language": "python",
   "name": "python3"
  },
  "language_info": {
   "codemirror_mode": {
    "name": "ipython",
    "version": 3
   },
   "file_extension": ".py",
   "mimetype": "text/x-python",
   "name": "python",
   "nbconvert_exporter": "python",
   "pygments_lexer": "ipython3",
   "version": "3.7.4"
  }
 },
 "nbformat": 4,
 "nbformat_minor": 4
}
